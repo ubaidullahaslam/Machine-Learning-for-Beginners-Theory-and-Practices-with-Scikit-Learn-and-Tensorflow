{
 "cells": [
  {
   "cell_type": "markdown",
   "metadata": {
    "_uuid": "3cac5ebe5effbc8c22ced3bd85a3d3e827104cf6"
   },
   "source": [
    "![](https://encrypted-tbn0.gstatic.com/images?q=tbn:ANd9GcQUXi3mkDlIZMmaGJzZVQnEEC535eNtp3WbO5HzZMxhCcUwucLo)"
   ]
  },
  {
   "cell_type": "markdown",
   "metadata": {
    "_uuid": "83e92e96c1b2693175187f170e874f80811b915b"
   },
   "source": [
    "# **SMS: Spam or Ham (Beginner)**"
   ]
  },
  {
   "cell_type": "markdown",
   "metadata": {
    "_uuid": "14f89fbf45c9e39030ace6d215aa377f75437f69"
   },
   "source": [
    "For my first kernel on Natural Language Processing (NLP), I chose the SMS Spam Collection Dataset.  \n",
    "It contains  the text of 5572 SMS messages and a label, classifying the message as \"spam\" or \"ham\".\n",
    "\n",
    "In this kernel I explore some common techniques of NLP like:\n",
    "\n",
    "* **Removing Punctuation and Stopwords**\n",
    "* **Tokenizer, Bag of words**  \n",
    "* **Term frequency inverse document frequency (TFIDF)**\n",
    "\n",
    "Based on these preprocessing, I train 6 different models that classify **unknown** messages as spam or ham. \n",
    "\n",
    "* **Naive Bayes Classifier**\n",
    "* **SVM Classifier**  \n",
    "* **KNN Classifier**\n",
    "* **SGD Classifier**\n",
    "* **Gradient Boosting Classifier**\n",
    "* **XGBoost Classifier**\n",
    "\n",
    "For easier handling of the preprocessing steps (for train and test data) and the optimization of different  \n",
    "models for the same conditions, the classification is done with **Pipelines** including GridSearchCV.  \n",
    "Finally, for the model evaluation different **metrics** are examined:  \n",
    "accuracy, precision, recall, fscore, roc_auc"
   ]
  },
  {
   "cell_type": "code",
   "execution_count": null,
   "metadata": {
    "_uuid": "501639d7c1474c946d7c02b6d592e841fee03ea5"
   },
   "outputs": [],
   "source": []
  },
  {
   "cell_type": "markdown",
   "metadata": {
    "_uuid": "66e435d174d98055e192cdfe780c814a3be8d89d"
   },
   "source": [
    "**The Notebook follows this outline:**  "
   ]
  },
  {
   "cell_type": "markdown",
   "metadata": {
    "_uuid": "252a2abb0a3ce947720af21d20922de2187151ee"
   },
   "source": [
    "**Part 0: Imports, define functions**  \n",
    "[import libraries](#Imports)  \n",
    "define [functions](#Functions) that are used often  \n",
    "\n",
    "[**Part 1: Exploratory Data Analysis**](#Part-1:-EDA)  \n",
    "**1.1 Get an overview of the dataset**  \n",
    "head, describe and value counts  \n",
    "[Distribution of the target variable](#Distribution-of-the-target-variable)  \n",
    "[Add numerical label for spam](#Add-numerical-label-for-spam)  \n",
    "**1.2 length of message**  \n",
    "[Add feature: length of message](#Add-feature:-length-of-message)  \n",
    "**1.3 WordClouds**  \n",
    "[WordCloud: Ham messages](#WordCloud:-Ham-messages)  \n",
    "[WordCloud: Spam messages](#WordCloud:-Spam-messages)  \n",
    "\n",
    "[**Part 2: Preprocessing**](#Part-2:-Preprocessing)  \n",
    "[**2.1 Remove punctuation and stopwords**](#2.1-Remove-Punctuation-and-Stopwords)   \n",
    "[**2.2 Top 30 words in ham and spam messages**](#2.2-Top-30-words-in-ham-and-spam-messages)  \n",
    "**2.3 Bag of words with CountVectorizer**  \n",
    "[The Bag of Words representation](#The-Bag-of-Words-representation)  \n",
    "[Examples for spam and ham messages](#Examples-for-spam-and-ham-messages)  \n",
    "[Applying bow_transformer on all messages](#Applying-bow_transformer-on-all-messages)  \n",
    "**2.4 Term frequency inverse document frequency (TFIDF)**  \n",
    "[From occurrences to frequencies](#From-occurrences-to-frequencies)  \n",
    "[TfidfTransformer from sklearn](#TfidfTransformer-from-sklearn)  "
   ]
  },
  {
   "cell_type": "markdown",
   "metadata": {},
   "source": [
    "\n",
    "[**Part 3: Classifiers**](#Part-3:-Classifiers)  \n",
    "[**3.1 First test for Classification**](#3.1-First-test-for-Classification) with Naive Bayes Classifier  \n",
    "[**3.2 train test split**](#3.2-train-test-split)  \n",
    "**3.3 Pipelines for Classification of unknown messages**  \n",
    "[Multinomial Naive Bayes](#3.3.1-MultinomialNB)  (simple: Preprocessing and Classification)  \n",
    "[KNN Classifier](#3.3.2-KNN)  (GridSearchCV for model parameter)   \n",
    "[Support Vector Classifier](#3.3.3-SVC)  (GridSearchCV for Preprocessing)  \n",
    "[SGD Classifier](#3.3.4-SGD)  (GridSearchCV for Preprocessing and model parameter)  \n",
    "[GradientBoostingClassifier](#3.3.5-GradientBoostingClassifier)    (GridSearchCV for Preprocessing and model parameter)  \n",
    "[XGBoost Classifier](#3.3.6-XGBoost-Classifier)    (GridSearchCV for Preprocessing and model parameter)  \n",
    "**3.4 Comparison of results**  \n",
    "[confusion_matrix](#confusion_matrix) +++ [accuracy_score](#accuracy_score)       \n",
    "[precision_score](#precision_score) +++ [recall_score](#recall_score)  \n",
    "[f1_score](#f1_score) +++  [classification_report](#classification_report)    \n",
    "[roc_auc_score](#roc_auc_score)  \n",
    "**3.5 Optimize classifiers with scoring by precision**  \n",
    "3.5.1 [GridSearchCV pipelines version 2](#3.5.1-GridSearchCV-pipelines-version-2)  \n",
    "3.5.2 [Confusion matrices for scoring by precision](#3.5.2-Confusion-matrices-for-scoring-by-precision)  \n",
    "**3.6 Optimize classifiers with scoring by recall**  \n",
    "3.6.1 [GridSearchCV pipelines version 3](#3.6.1-GridSearchCV-pipelines-version-3)  \n",
    "3.6.2 [Confusion matrices for scoring by recall](#3.6.2-Confusion-matrices-for-scoring-by-recall)  \n",
    "**3.7 Optimize classifiers with scoring by roc_auc**  \n",
    "3.7.1 [GridSearchCV pipelines version 4](#3.7.1-GridSearchCV-pipelines-version-4)    \n",
    "3.7.2 [Confusion matrices for scoring by roc auc](#3.7.2-Confusion-matrices-for-scoring-by-roc-auc)  \n",
    "\n",
    "[**Part 4: NLTK**](#Part-4:-NLTK)\n"
   ]
  },
  {
   "cell_type": "markdown",
   "metadata": {
    "_uuid": "823e81881f13f82f83817a252b0fa834446f4412"
   },
   "source": [
    "**TODO : **  \n",
    " \n",
    "\n",
    "**include feature text length in model**   \n",
    "\n",
    "**NLTK**"
   ]
  },
  {
   "cell_type": "code",
   "execution_count": null,
   "metadata": {
    "_uuid": "ffaf535a4250a7fbaa1c68b27fb55d9a96cd4c0c"
   },
   "outputs": [],
   "source": []
  },
  {
   "cell_type": "markdown",
   "metadata": {},
   "source": [
    "**References:**  \n",
    "Parts of the EDA and preprocessing are based on the Capstone Project in Jose Portilla's Udemy course.  \n",
    "I can recommend this course for beginners in Python ML.  \n"
   ]
  },
  {
   "cell_type": "code",
   "execution_count": null,
   "metadata": {
    "_uuid": "d3b53cdae8daf6bbb12abac40690e83ff28db5b2"
   },
   "outputs": [],
   "source": []
  },
  {
   "cell_type": "markdown",
   "metadata": {
    "_uuid": "d31e3961805d4b1205440831bacd4796a3d5e281"
   },
   "source": [
    "# **Part 0: Imports, define functions** "
   ]
  },
  {
   "cell_type": "markdown",
   "metadata": {
    "_uuid": "7e07c8e4ca9941fa0b409bbc48c79f4b432c9832"
   },
   "source": [
    "## Imports"
   ]
  },
  {
   "cell_type": "code",
   "execution_count": 1,
   "metadata": {
    "_cell_guid": "b1076dfc-b9ad-4769-8c92-a6c4dae69d19",
    "_uuid": "8f2839f25d086af736a60e9eeb907d3b93b6e0e5"
   },
   "outputs": [
    {
     "name": "stdout",
     "output_type": "stream",
     "text": [
      "['spam.csv']\n"
     ]
    }
   ],
   "source": [
    "import numpy as np \n",
    "import pandas as pd \n",
    "\n",
    "import matplotlib.pyplot as plt\n",
    "import seaborn as sns\n",
    "%matplotlib inline\n",
    "\n",
    "from sklearn.preprocessing import MinMaxScaler\n",
    "\n",
    "from sklearn.naive_bayes import MultinomialNB\n",
    "from sklearn.svm import SVC\n",
    "from sklearn.neighbors import KNeighborsClassifier\n",
    "from sklearn.linear_model import SGDClassifier\n",
    "from sklearn.ensemble import GradientBoostingClassifier\n",
    "\n",
    "from sklearn.pipeline import Pipeline\n",
    "from sklearn.model_selection import GridSearchCV\n",
    "from sklearn.metrics import classification_report, confusion_matrix, accuracy_score\n",
    "\n",
    "import wordcloud\n",
    "\n",
    "import nltk\n",
    "from nltk.corpus import stopwords\n",
    "from nltk.tokenize import word_tokenize \n",
    "\n",
    "import os\n",
    "print(os.listdir(\"../input\"))"
   ]
  },
  {
   "cell_type": "markdown",
   "metadata": {
    "_uuid": "d042a0fd2b1b124201c84b367e5a3c811f3c7278"
   },
   "source": [
    "## Functions"
   ]
  },
  {
   "cell_type": "markdown",
   "metadata": {
    "_uuid": "21fed8f50a1f88bf2d614a7c193606c685beae8d"
   },
   "source": [
    "print Classification Report and Accuracy"
   ]
  },
  {
   "cell_type": "code",
   "execution_count": 2,
   "metadata": {
    "_uuid": "6d1507ee9876985f963650eba7fe84f87eefb076"
   },
   "outputs": [],
   "source": [
    "def print_validation_report(y_true, y_pred):\n",
    "    print(\"Classification Report\")\n",
    "    print(classification_report(y_true, y_pred))\n",
    "    acc_sc = accuracy_score(y_true, y_pred)\n",
    "    print(\"Accuracy : \"+ str(acc_sc))\n",
    "    \n",
    "    return acc_sc"
   ]
  },
  {
   "cell_type": "markdown",
   "metadata": {
    "_uuid": "72615b9c2a0f9c82cb80879df5783abc35da6d50"
   },
   "source": [
    "plot_confusion_matrix"
   ]
  },
  {
   "cell_type": "code",
   "execution_count": 3,
   "metadata": {
    "_uuid": "a54d45761deee27294673d1aeadebcc1c3eed146"
   },
   "outputs": [],
   "source": [
    "def plot_confusion_matrix(y_true, y_pred):\n",
    "    mtx = confusion_matrix(y_true, y_pred)\n",
    "    #fig, ax = plt.subplots(figsize=(4,4))\n",
    "    sns.heatmap(mtx, annot=True, fmt='d', linewidths=.5,  \n",
    "                cmap=\"Blues\", cbar=False, ax=ax)\n",
    "    #  square=True,\n",
    "    plt.ylabel('true label')\n",
    "    plt.xlabel('predicted label')"
   ]
  },
  {
   "cell_type": "code",
   "execution_count": null,
   "metadata": {
    "_uuid": "eeb01c9e17e719ec7fc159a92c865efda18a8d54"
   },
   "outputs": [],
   "source": []
  },
  {
   "cell_type": "markdown",
   "metadata": {
    "_uuid": "082306c6380a6bc0a2d1aa16843ab4200f011ebe"
   },
   "source": [
    "# **Part 1: EDA**"
   ]
  },
  {
   "cell_type": "code",
   "execution_count": 4,
   "metadata": {
    "_uuid": "5654c4b08e286b2833bc03d056878325041c75c9"
   },
   "outputs": [
    {
     "data": {
      "text/html": [
       "<div>\n",
       "<style scoped>\n",
       "    .dataframe tbody tr th:only-of-type {\n",
       "        vertical-align: middle;\n",
       "    }\n",
       "\n",
       "    .dataframe tbody tr th {\n",
       "        vertical-align: top;\n",
       "    }\n",
       "\n",
       "    .dataframe thead th {\n",
       "        text-align: right;\n",
       "    }\n",
       "</style>\n",
       "<table border=\"1\" class=\"dataframe\">\n",
       "  <thead>\n",
       "    <tr style=\"text-align: right;\">\n",
       "      <th></th>\n",
       "      <th>v1</th>\n",
       "      <th>v2</th>\n",
       "      <th>Unnamed: 2</th>\n",
       "      <th>Unnamed: 3</th>\n",
       "      <th>Unnamed: 4</th>\n",
       "    </tr>\n",
       "  </thead>\n",
       "  <tbody>\n",
       "    <tr>\n",
       "      <th>0</th>\n",
       "      <td>ham</td>\n",
       "      <td>Go until jurong point, crazy.. Available only ...</td>\n",
       "      <td>NaN</td>\n",
       "      <td>NaN</td>\n",
       "      <td>NaN</td>\n",
       "    </tr>\n",
       "    <tr>\n",
       "      <th>1</th>\n",
       "      <td>ham</td>\n",
       "      <td>Ok lar... Joking wif u oni...</td>\n",
       "      <td>NaN</td>\n",
       "      <td>NaN</td>\n",
       "      <td>NaN</td>\n",
       "    </tr>\n",
       "    <tr>\n",
       "      <th>2</th>\n",
       "      <td>spam</td>\n",
       "      <td>Free entry in 2 a wkly comp to win FA Cup fina...</td>\n",
       "      <td>NaN</td>\n",
       "      <td>NaN</td>\n",
       "      <td>NaN</td>\n",
       "    </tr>\n",
       "    <tr>\n",
       "      <th>3</th>\n",
       "      <td>ham</td>\n",
       "      <td>U dun say so early hor... U c already then say...</td>\n",
       "      <td>NaN</td>\n",
       "      <td>NaN</td>\n",
       "      <td>NaN</td>\n",
       "    </tr>\n",
       "    <tr>\n",
       "      <th>4</th>\n",
       "      <td>ham</td>\n",
       "      <td>Nah I don't think he goes to usf, he lives aro...</td>\n",
       "      <td>NaN</td>\n",
       "      <td>NaN</td>\n",
       "      <td>NaN</td>\n",
       "    </tr>\n",
       "  </tbody>\n",
       "</table>\n",
       "</div>"
      ],
      "text/plain": [
       "     v1    ...     Unnamed: 4\n",
       "0   ham    ...            NaN\n",
       "1   ham    ...            NaN\n",
       "2  spam    ...            NaN\n",
       "3   ham    ...            NaN\n",
       "4   ham    ...            NaN\n",
       "\n",
       "[5 rows x 5 columns]"
      ]
     },
     "execution_count": 4,
     "metadata": {},
     "output_type": "execute_result"
    }
   ],
   "source": [
    "data = pd.read_csv(\"../input/spam.csv\",encoding='latin-1')\n",
    "data.head()"
   ]
  },
  {
   "cell_type": "markdown",
   "metadata": {
    "_uuid": "cb63ad287008768565b8f80617bb763e2ac5423d"
   },
   "source": [
    "Columns 2,3,4 contain no important data and can be deleted.  \n",
    "Also, we rename column v1 as \"label\" and v2 as \"text\""
   ]
  },
  {
   "cell_type": "code",
   "execution_count": 5,
   "metadata": {
    "_uuid": "f412489f7e767443b6e656850cca153393f0cca5"
   },
   "outputs": [],
   "source": [
    "data = data.drop([\"Unnamed: 2\", \"Unnamed: 3\", \"Unnamed: 4\"], axis=1)\n",
    "data = data.rename(columns={\"v1\":\"label\", \"v2\":\"text\"})"
   ]
  },
  {
   "cell_type": "code",
   "execution_count": 6,
   "metadata": {
    "_uuid": "36b87f12ddaaf8db2d41ffd8d78b6a92a6634ad5"
   },
   "outputs": [
    {
     "data": {
      "text/html": [
       "<div>\n",
       "<style scoped>\n",
       "    .dataframe tbody tr th:only-of-type {\n",
       "        vertical-align: middle;\n",
       "    }\n",
       "\n",
       "    .dataframe tbody tr th {\n",
       "        vertical-align: top;\n",
       "    }\n",
       "\n",
       "    .dataframe thead th {\n",
       "        text-align: right;\n",
       "    }\n",
       "</style>\n",
       "<table border=\"1\" class=\"dataframe\">\n",
       "  <thead>\n",
       "    <tr style=\"text-align: right;\">\n",
       "      <th></th>\n",
       "      <th>label</th>\n",
       "      <th>text</th>\n",
       "    </tr>\n",
       "  </thead>\n",
       "  <tbody>\n",
       "    <tr>\n",
       "      <th>count</th>\n",
       "      <td>5572</td>\n",
       "      <td>5572</td>\n",
       "    </tr>\n",
       "    <tr>\n",
       "      <th>unique</th>\n",
       "      <td>2</td>\n",
       "      <td>5169</td>\n",
       "    </tr>\n",
       "    <tr>\n",
       "      <th>top</th>\n",
       "      <td>ham</td>\n",
       "      <td>Sorry, I'll call later</td>\n",
       "    </tr>\n",
       "    <tr>\n",
       "      <th>freq</th>\n",
       "      <td>4825</td>\n",
       "      <td>30</td>\n",
       "    </tr>\n",
       "  </tbody>\n",
       "</table>\n",
       "</div>"
      ],
      "text/plain": [
       "       label                    text\n",
       "count   5572                    5572\n",
       "unique     2                    5169\n",
       "top      ham  Sorry, I'll call later\n",
       "freq    4825                      30"
      ]
     },
     "execution_count": 6,
     "metadata": {},
     "output_type": "execute_result"
    }
   ],
   "source": [
    "data.describe()"
   ]
  },
  {
   "cell_type": "code",
   "execution_count": 7,
   "metadata": {
    "_uuid": "aa53b10c9da3d3e7d09fb0d29ac09d3ff84c83f6"
   },
   "outputs": [
    {
     "data": {
      "text/html": [
       "<div>\n",
       "<style scoped>\n",
       "    .dataframe tbody tr th:only-of-type {\n",
       "        vertical-align: middle;\n",
       "    }\n",
       "\n",
       "    .dataframe tbody tr th {\n",
       "        vertical-align: top;\n",
       "    }\n",
       "\n",
       "    .dataframe thead tr th {\n",
       "        text-align: left;\n",
       "    }\n",
       "\n",
       "    .dataframe thead tr:last-of-type th {\n",
       "        text-align: right;\n",
       "    }\n",
       "</style>\n",
       "<table border=\"1\" class=\"dataframe\">\n",
       "  <thead>\n",
       "    <tr>\n",
       "      <th></th>\n",
       "      <th colspan=\"4\" halign=\"left\">text</th>\n",
       "    </tr>\n",
       "    <tr>\n",
       "      <th></th>\n",
       "      <th>count</th>\n",
       "      <th>unique</th>\n",
       "      <th>top</th>\n",
       "      <th>freq</th>\n",
       "    </tr>\n",
       "    <tr>\n",
       "      <th>label</th>\n",
       "      <th></th>\n",
       "      <th></th>\n",
       "      <th></th>\n",
       "      <th></th>\n",
       "    </tr>\n",
       "  </thead>\n",
       "  <tbody>\n",
       "    <tr>\n",
       "      <th>ham</th>\n",
       "      <td>4825</td>\n",
       "      <td>4516</td>\n",
       "      <td>Sorry, I'll call later</td>\n",
       "      <td>30</td>\n",
       "    </tr>\n",
       "    <tr>\n",
       "      <th>spam</th>\n",
       "      <td>747</td>\n",
       "      <td>653</td>\n",
       "      <td>Please call our customer service representativ...</td>\n",
       "      <td>4</td>\n",
       "    </tr>\n",
       "  </tbody>\n",
       "</table>\n",
       "</div>"
      ],
      "text/plain": [
       "       text                                                               \n",
       "      count unique                                                top freq\n",
       "label                                                                     \n",
       "ham    4825   4516                             Sorry, I'll call later   30\n",
       "spam    747    653  Please call our customer service representativ...    4"
      ]
     },
     "execution_count": 7,
     "metadata": {},
     "output_type": "execute_result"
    }
   ],
   "source": [
    "data.groupby(\"label\").describe()"
   ]
  },
  {
   "cell_type": "markdown",
   "metadata": {
    "_uuid": "2ce5027974bdd19359abdeeb32dac9c436dcd0f2"
   },
   "source": [
    "### Distribution of the target variable"
   ]
  },
  {
   "cell_type": "markdown",
   "metadata": {
    "_uuid": "599f248cd4b81880ad40911f0b8c72edb89f924d"
   },
   "source": [
    "The dataset contains 4825 ham and 747 spam messages.  \n",
    "For both classes, some messages appear more than once (common phrases, etc.)."
   ]
  },
  {
   "cell_type": "code",
   "execution_count": 8,
   "metadata": {
    "_uuid": "6a4c90bd39e5bb963d845562e66854455b9118ca"
   },
   "outputs": [
    {
     "data": {
      "text/plain": [
       "ham     4825\n",
       "spam     747\n",
       "Name: label, dtype: int64"
      ]
     },
     "execution_count": 8,
     "metadata": {},
     "output_type": "execute_result"
    }
   ],
   "source": [
    "data.label.value_counts()"
   ]
  },
  {
   "cell_type": "code",
   "execution_count": 9,
   "metadata": {
    "_uuid": "b4f8372b931251cb5984f82969771619fbac7f2b"
   },
   "outputs": [
    {
     "data": {
      "image/png": "[encoded data removed]",
      "text/plain": [
       "<Figure size 432x288 with 1 Axes>"
      ]
     },
     "metadata": {
      "needs_background": "light"
     },
     "output_type": "display_data"
    }
   ],
   "source": [
    "data.label.value_counts().plot.bar();"
   ]
  },
  {
   "cell_type": "markdown",
   "metadata": {
    "_uuid": "6653bc13fd51bc3b17bea2acd62996f952a88880"
   },
   "source": [
    "### Add numerical label for spam   \n",
    "Target must be numerical for ML classification models"
   ]
  },
  {
   "cell_type": "code",
   "execution_count": 10,
   "metadata": {
    "_uuid": "f81edcf4efc48b1a93add45419bdd6d1177a7dda"
   },
   "outputs": [
    {
     "data": {
      "text/html": [
       "<div>\n",
       "<style scoped>\n",
       "    .dataframe tbody tr th:only-of-type {\n",
       "        vertical-align: middle;\n",
       "    }\n",
       "\n",
       "    .dataframe tbody tr th {\n",
       "        vertical-align: top;\n",
       "    }\n",
       "\n",
       "    .dataframe thead th {\n",
       "        text-align: right;\n",
       "    }\n",
       "</style>\n",
       "<table border=\"1\" class=\"dataframe\">\n",
       "  <thead>\n",
       "    <tr style=\"text-align: right;\">\n",
       "      <th></th>\n",
       "      <th>label</th>\n",
       "      <th>text</th>\n",
       "      <th>spam</th>\n",
       "    </tr>\n",
       "  </thead>\n",
       "  <tbody>\n",
       "    <tr>\n",
       "      <th>0</th>\n",
       "      <td>ham</td>\n",
       "      <td>Go until jurong point, crazy.. Available only ...</td>\n",
       "      <td>0</td>\n",
       "    </tr>\n",
       "    <tr>\n",
       "      <th>1</th>\n",
       "      <td>ham</td>\n",
       "      <td>Ok lar... Joking wif u oni...</td>\n",
       "      <td>0</td>\n",
       "    </tr>\n",
       "    <tr>\n",
       "      <th>2</th>\n",
       "      <td>spam</td>\n",
       "      <td>Free entry in 2 a wkly comp to win FA Cup fina...</td>\n",
       "      <td>1</td>\n",
       "    </tr>\n",
       "    <tr>\n",
       "      <th>3</th>\n",
       "      <td>ham</td>\n",
       "      <td>U dun say so early hor... U c already then say...</td>\n",
       "      <td>0</td>\n",
       "    </tr>\n",
       "    <tr>\n",
       "      <th>4</th>\n",
       "      <td>ham</td>\n",
       "      <td>Nah I don't think he goes to usf, he lives aro...</td>\n",
       "      <td>0</td>\n",
       "    </tr>\n",
       "    <tr>\n",
       "      <th>5</th>\n",
       "      <td>spam</td>\n",
       "      <td>FreeMsg Hey there darling it's been 3 week's n...</td>\n",
       "      <td>1</td>\n",
       "    </tr>\n",
       "    <tr>\n",
       "      <th>6</th>\n",
       "      <td>ham</td>\n",
       "      <td>Even my brother is not like to speak with me. ...</td>\n",
       "      <td>0</td>\n",
       "    </tr>\n",
       "    <tr>\n",
       "      <th>7</th>\n",
       "      <td>ham</td>\n",
       "      <td>As per your request 'Melle Melle (Oru Minnamin...</td>\n",
       "      <td>0</td>\n",
       "    </tr>\n",
       "    <tr>\n",
       "      <th>8</th>\n",
       "      <td>spam</td>\n",
       "      <td>WINNER!! As a valued network customer you have...</td>\n",
       "      <td>1</td>\n",
       "    </tr>\n",
       "    <tr>\n",
       "      <th>9</th>\n",
       "      <td>spam</td>\n",
       "      <td>Had your mobile 11 months or more? U R entitle...</td>\n",
       "      <td>1</td>\n",
       "    </tr>\n",
       "    <tr>\n",
       "      <th>10</th>\n",
       "      <td>ham</td>\n",
       "      <td>I'm gonna be home soon and i don't want to tal...</td>\n",
       "      <td>0</td>\n",
       "    </tr>\n",
       "    <tr>\n",
       "      <th>11</th>\n",
       "      <td>spam</td>\n",
       "      <td>SIX chances to win CASH! From 100 to 20,000 po...</td>\n",
       "      <td>1</td>\n",
       "    </tr>\n",
       "    <tr>\n",
       "      <th>12</th>\n",
       "      <td>spam</td>\n",
       "      <td>URGENT! You have won a 1 week FREE membership ...</td>\n",
       "      <td>1</td>\n",
       "    </tr>\n",
       "    <tr>\n",
       "      <th>13</th>\n",
       "      <td>ham</td>\n",
       "      <td>I've been searching for the right words to tha...</td>\n",
       "      <td>0</td>\n",
       "    </tr>\n",
       "    <tr>\n",
       "      <th>14</th>\n",
       "      <td>ham</td>\n",
       "      <td>I HAVE A DATE ON SUNDAY WITH WILL!!</td>\n",
       "      <td>0</td>\n",
       "    </tr>\n",
       "  </tbody>\n",
       "</table>\n",
       "</div>"
      ],
      "text/plain": [
       "   label                                               text  spam\n",
       "0    ham  Go until jurong point, crazy.. Available only ...     0\n",
       "1    ham                      Ok lar... Joking wif u oni...     0\n",
       "2   spam  Free entry in 2 a wkly comp to win FA Cup fina...     1\n",
       "3    ham  U dun say so early hor... U c already then say...     0\n",
       "4    ham  Nah I don't think he goes to usf, he lives aro...     0\n",
       "5   spam  FreeMsg Hey there darling it's been 3 week's n...     1\n",
       "6    ham  Even my brother is not like to speak with me. ...     0\n",
       "7    ham  As per your request 'Melle Melle (Oru Minnamin...     0\n",
       "8   spam  WINNER!! As a valued network customer you have...     1\n",
       "9   spam  Had your mobile 11 months or more? U R entitle...     1\n",
       "10   ham  I'm gonna be home soon and i don't want to tal...     0\n",
       "11  spam  SIX chances to win CASH! From 100 to 20,000 po...     1\n",
       "12  spam  URGENT! You have won a 1 week FREE membership ...     1\n",
       "13   ham  I've been searching for the right words to tha...     0\n",
       "14   ham                I HAVE A DATE ON SUNDAY WITH WILL!!     0"
      ]
     },
     "execution_count": 10,
     "metadata": {},
     "output_type": "execute_result"
    }
   ],
   "source": [
    "data['spam'] = data['label'].map( {'spam': 1, 'ham': 0} ).astype(int)\n",
    "data.head(15)"
   ]
  },
  {
   "cell_type": "code",
   "execution_count": null,
   "metadata": {
    "_uuid": "efe33ff44f565f771a2276235239db858f3ba1ee"
   },
   "outputs": [],
   "source": []
  },
  {
   "cell_type": "markdown",
   "metadata": {},
   "source": [
    "### 1.2 length of message"
   ]
  },
  {
   "cell_type": "markdown",
   "metadata": {
    "_uuid": "5815aab27e942c1f49e9be291121fd145d405ad0"
   },
   "source": [
    "### Add feature: length of message"
   ]
  },
  {
   "cell_type": "code",
   "execution_count": 11,
   "metadata": {
    "_uuid": "676699099d15dc5ea90e7ad15ffd6f62c1033854"
   },
   "outputs": [],
   "source": [
    "data['length'] = data['text'].apply(len)"
   ]
  },
  {
   "cell_type": "code",
   "execution_count": 12,
   "metadata": {
    "_uuid": "58d7dfbc59752599edeec691c73f86656c2cc4f0"
   },
   "outputs": [
    {
     "data": {
      "text/html": [
       "<div>\n",
       "<style scoped>\n",
       "    .dataframe tbody tr th:only-of-type {\n",
       "        vertical-align: middle;\n",
       "    }\n",
       "\n",
       "    .dataframe tbody tr th {\n",
       "        vertical-align: top;\n",
       "    }\n",
       "\n",
       "    .dataframe thead th {\n",
       "        text-align: right;\n",
       "    }\n",
       "</style>\n",
       "<table border=\"1\" class=\"dataframe\">\n",
       "  <thead>\n",
       "    <tr style=\"text-align: right;\">\n",
       "      <th></th>\n",
       "      <th>label</th>\n",
       "      <th>text</th>\n",
       "      <th>spam</th>\n",
       "      <th>length</th>\n",
       "    </tr>\n",
       "  </thead>\n",
       "  <tbody>\n",
       "    <tr>\n",
       "      <th>0</th>\n",
       "      <td>ham</td>\n",
       "      <td>Go until jurong point, crazy.. Available only ...</td>\n",
       "      <td>0</td>\n",
       "      <td>111</td>\n",
       "    </tr>\n",
       "    <tr>\n",
       "      <th>1</th>\n",
       "      <td>ham</td>\n",
       "      <td>Ok lar... Joking wif u oni...</td>\n",
       "      <td>0</td>\n",
       "      <td>29</td>\n",
       "    </tr>\n",
       "    <tr>\n",
       "      <th>2</th>\n",
       "      <td>spam</td>\n",
       "      <td>Free entry in 2 a wkly comp to win FA Cup fina...</td>\n",
       "      <td>1</td>\n",
       "      <td>155</td>\n",
       "    </tr>\n",
       "    <tr>\n",
       "      <th>3</th>\n",
       "      <td>ham</td>\n",
       "      <td>U dun say so early hor... U c already then say...</td>\n",
       "      <td>0</td>\n",
       "      <td>49</td>\n",
       "    </tr>\n",
       "    <tr>\n",
       "      <th>4</th>\n",
       "      <td>ham</td>\n",
       "      <td>Nah I don't think he goes to usf, he lives aro...</td>\n",
       "      <td>0</td>\n",
       "      <td>61</td>\n",
       "    </tr>\n",
       "    <tr>\n",
       "      <th>5</th>\n",
       "      <td>spam</td>\n",
       "      <td>FreeMsg Hey there darling it's been 3 week's n...</td>\n",
       "      <td>1</td>\n",
       "      <td>148</td>\n",
       "    </tr>\n",
       "    <tr>\n",
       "      <th>6</th>\n",
       "      <td>ham</td>\n",
       "      <td>Even my brother is not like to speak with me. ...</td>\n",
       "      <td>0</td>\n",
       "      <td>77</td>\n",
       "    </tr>\n",
       "    <tr>\n",
       "      <th>7</th>\n",
       "      <td>ham</td>\n",
       "      <td>As per your request 'Melle Melle (Oru Minnamin...</td>\n",
       "      <td>0</td>\n",
       "      <td>160</td>\n",
       "    </tr>\n",
       "    <tr>\n",
       "      <th>8</th>\n",
       "      <td>spam</td>\n",
       "      <td>WINNER!! As a valued network customer you have...</td>\n",
       "      <td>1</td>\n",
       "      <td>158</td>\n",
       "    </tr>\n",
       "    <tr>\n",
       "      <th>9</th>\n",
       "      <td>spam</td>\n",
       "      <td>Had your mobile 11 months or more? U R entitle...</td>\n",
       "      <td>1</td>\n",
       "      <td>154</td>\n",
       "    </tr>\n",
       "  </tbody>\n",
       "</table>\n",
       "</div>"
      ],
      "text/plain": [
       "  label                                               text  spam  length\n",
       "0   ham  Go until jurong point, crazy.. Available only ...     0     111\n",
       "1   ham                      Ok lar... Joking wif u oni...     0      29\n",
       "2  spam  Free entry in 2 a wkly comp to win FA Cup fina...     1     155\n",
       "3   ham  U dun say so early hor... U c already then say...     0      49\n",
       "4   ham  Nah I don't think he goes to usf, he lives aro...     0      61\n",
       "5  spam  FreeMsg Hey there darling it's been 3 week's n...     1     148\n",
       "6   ham  Even my brother is not like to speak with me. ...     0      77\n",
       "7   ham  As per your request 'Melle Melle (Oru Minnamin...     0     160\n",
       "8  spam  WINNER!! As a valued network customer you have...     1     158\n",
       "9  spam  Had your mobile 11 months or more? U R entitle...     1     154"
      ]
     },
     "execution_count": 12,
     "metadata": {},
     "output_type": "execute_result"
    }
   ],
   "source": [
    "data.head(10)"
   ]
  },
  {
   "cell_type": "code",
   "execution_count": 13,
   "metadata": {
    "_uuid": "285f6d0fa94ecd4b114a2567e2b608159ce6c025"
   },
   "outputs": [
    {
     "data": {
      "image/png": "[encoded data removed]",
      "text/plain": [
       "<Figure size 864x288 with 2 Axes>"
      ]
     },
     "metadata": {
      "needs_background": "light"
     },
     "output_type": "display_data"
    }
   ],
   "source": [
    "data.hist(column='length',by='label',bins=60,figsize=(12,4));\n",
    "plt.xlim(-40,950);"
   ]
  },
  {
   "cell_type": "markdown",
   "metadata": {
    "_uuid": "8aa167a101b039fcbd6c2194b14b9cc0acee6e23"
   },
   "source": [
    "Looks like spam messages are generally longer than ham messages:  \n",
    "Bulk of ham has length below 100, for spam it is above 100.  \n",
    "We will check if this feature is useful for the classification task in Part 3.  "
   ]
  },
  {
   "cell_type": "code",
   "execution_count": null,
   "metadata": {},
   "outputs": [],
   "source": []
  },
  {
   "cell_type": "code",
   "execution_count": 14,
   "metadata": {},
   "outputs": [],
   "source": [
    "data_ham  = data[data['spam'] == 0].copy()\n",
    "data_spam = data[data['spam'] == 1].copy()"
   ]
  },
  {
   "cell_type": "markdown",
   "metadata": {},
   "source": [
    "### 1.3 WordClouds"
   ]
  },
  {
   "cell_type": "code",
   "execution_count": 15,
   "metadata": {},
   "outputs": [],
   "source": [
    "def show_wordcloud(data_spam_or_ham, title):\n",
    "    text = ' '.join(data_spam_or_ham['text'].astype(str).tolist())\n",
    "    stopwords = set(wordcloud.STOPWORDS)\n",
    "    \n",
    "    fig_wordcloud = wordcloud.WordCloud(stopwords=stopwords,background_color='lightgrey',\n",
    "                    colormap='viridis', width=800, height=600).generate(text)\n",
    "    \n",
    "    plt.figure(figsize=(10,7), frameon=True)\n",
    "    plt.imshow(fig_wordcloud)  \n",
    "    plt.axis('off')\n",
    "    plt.title(title, fontsize=20 )\n",
    "    plt.show()"
   ]
  },
  {
   "cell_type": "markdown",
   "metadata": {},
   "source": [
    "### WordCloud: Ham messages"
   ]
  },
  {
   "cell_type": "code",
   "execution_count": 16,
   "metadata": {},
   "outputs": [
    {
     "data": {
      "image/png": "[encoded data removed]",
      "text/plain": [
       "<Figure size 720x504 with 1 Axes>"
      ]
     },
     "metadata": {
      "needs_background": "light"
     },
     "output_type": "display_data"
    }
   ],
   "source": [
    "show_wordcloud(data_ham, \"Ham messages\")"
   ]
  },
  {
   "cell_type": "markdown",
   "metadata": {},
   "source": [
    "### WordCloud: Spam messages"
   ]
  },
  {
   "cell_type": "code",
   "execution_count": 17,
   "metadata": {},
   "outputs": [
    {
     "data": {
      "image/png": "[encoded data removed]",
      "text/plain": [
       "<Figure size 720x504 with 1 Axes>"
      ]
     },
     "metadata": {
      "needs_background": "light"
     },
     "output_type": "display_data"
    }
   ],
   "source": [
    "show_wordcloud(data_spam, \"Spam messages\")"
   ]
  },
  {
   "cell_type": "code",
   "execution_count": null,
   "metadata": {},
   "outputs": [],
   "source": []
  },
  {
   "cell_type": "markdown",
   "metadata": {
    "_uuid": "dc9f69c3e24cd2aa2f2559825a7ad4710e361115"
   },
   "source": [
    "# **Part 2: Preprocessing**"
   ]
  },
  {
   "cell_type": "markdown",
   "metadata": {
    "_uuid": "da7836b09691c2ba2a96f9af3bc8662a1fa0d788"
   },
   "source": [
    "**Basic preprocessing for common NLP tasks includes converting text to lowercase and removing punctuation and stopwords.**  \n",
    "**Further steps, especially for text classification tasks, are:**  \n",
    "* Tokenization\n",
    "* Vectorization and \n",
    "* TF-IDF weighting  \n",
    "\n",
    "**Lets apply these approaches on the SMS messages.**"
   ]
  },
  {
   "cell_type": "markdown",
   "metadata": {
    "_uuid": "9a89e7cb53fb78632611598e27fcaadb4d00f127"
   },
   "source": [
    "## 2.1 Remove Punctuation and Stopwords"
   ]
  },
  {
   "cell_type": "markdown",
   "metadata": {
    "_uuid": "b0f0e77fc5ba947aa4585c259938064d464edfbe"
   },
   "source": [
    "### Punctuation\n",
    "**We use the punctuation list from the string library:**"
   ]
  },
  {
   "cell_type": "code",
   "execution_count": 18,
   "metadata": {
    "_uuid": "76654fd5e10f4c8a46d9d8c9dc5238e0a860d9af"
   },
   "outputs": [
    {
     "data": {
      "text/plain": [
       "'!\"#$%&\\'()*+,-./:;<=>?@[\\\\]^_`{|}~'"
      ]
     },
     "execution_count": 18,
     "metadata": {},
     "output_type": "execute_result"
    }
   ],
   "source": [
    "import string\n",
    "string.punctuation"
   ]
  },
  {
   "cell_type": "markdown",
   "metadata": {
    "_uuid": "cb9c3c22e0534e2630eed529b3989eac65a302b3"
   },
   "source": [
    "### Stopwords  \n",
    "from sklearn documentation:  https://scikit-learn.org/stable/modules/feature_extraction.html#stop-words  \n",
    "Stop words are words like “and”, “the”, “him”, which are presumed to be uninformative in representing the content of a text,   \n",
    "and which may be removed to avoid them being construed as signal for prediction.  \n",
    "Sometimes, however, similar words are useful for prediction, such as in classifying writing style or personality.  \n",
    "\n",
    "Due to the known issues in the ’english’ stop word list of sklearn, we use the stopwords from NLTK:"
   ]
  },
  {
   "cell_type": "markdown",
   "metadata": {
    "_uuid": "b7fde6b90bb4cabe8eba93d07c95a91967062060"
   },
   "source": [
    "**NLTK**"
   ]
  },
  {
   "cell_type": "code",
   "execution_count": 19,
   "metadata": {
    "_uuid": "2b71df4ef3915bc73648a5380b29019a461305e7"
   },
   "outputs": [
    {
     "data": {
      "text/plain": [
       "['here', 'there', 'when', 'where', 'why', 'how', 'all', 'any', 'both', 'each']"
      ]
     },
     "execution_count": 19,
     "metadata": {},
     "output_type": "execute_result"
    }
   ],
   "source": [
    "from nltk.corpus import stopwords\n",
    "stopwords.words(\"english\")[100:110]"
   ]
  },
  {
   "cell_type": "markdown",
   "metadata": {
    "_uuid": "1815902b628a2ea8c7a65637767a5ca5ee161b1b"
   },
   "source": [
    "**With the above lists for punctuation characters and stop words, we define a function to remove these from the text**  \n",
    "**This function also converts all text to lowercase**"
   ]
  },
  {
   "cell_type": "code",
   "execution_count": 20,
   "metadata": {
    "_uuid": "29f3ba753b6fcd26816110fe86a6995f715ad178"
   },
   "outputs": [],
   "source": [
    "def remove_punctuation_and_stopwords(sms):\n",
    "    \n",
    "    sms_no_punctuation = [ch for ch in sms if ch not in string.punctuation]\n",
    "    sms_no_punctuation = \"\".join(sms_no_punctuation).split()\n",
    "    \n",
    "    sms_no_punctuation_no_stopwords = \\\n",
    "        [word.lower() for word in sms_no_punctuation if word.lower() not in stopwords.words(\"english\")]\n",
    "        \n",
    "    return sms_no_punctuation_no_stopwords"
   ]
  },
  {
   "cell_type": "code",
   "execution_count": 21,
   "metadata": {
    "_uuid": "fe8cec520d8684c1cd481ea26505999576df8339"
   },
   "outputs": [
    {
     "data": {
      "text/plain": [
       "0    [go, jurong, point, crazy, available, bugis, n...\n",
       "1                       [ok, lar, joking, wif, u, oni]\n",
       "2    [free, entry, 2, wkly, comp, win, fa, cup, fin...\n",
       "3        [u, dun, say, early, hor, u, c, already, say]\n",
       "4    [nah, dont, think, goes, usf, lives, around, t...\n",
       "Name: text, dtype: object"
      ]
     },
     "execution_count": 21,
     "metadata": {},
     "output_type": "execute_result"
    }
   ],
   "source": [
    "data['text'].apply(remove_punctuation_and_stopwords).head()"
   ]
  },
  {
   "cell_type": "code",
   "execution_count": null,
   "metadata": {},
   "outputs": [],
   "source": []
  },
  {
   "cell_type": "markdown",
   "metadata": {},
   "source": [
    "### 2.2 Top 30 words in ham and spam messages"
   ]
  },
  {
   "cell_type": "markdown",
   "metadata": {},
   "source": [
    "### 2.2.1 Collections: Counter"
   ]
  },
  {
   "cell_type": "code",
   "execution_count": 22,
   "metadata": {},
   "outputs": [],
   "source": [
    "from collections import Counter"
   ]
  },
  {
   "cell_type": "code",
   "execution_count": 23,
   "metadata": {},
   "outputs": [],
   "source": [
    "data_ham.loc[:, 'text'] = data_ham['text'].apply(remove_punctuation_and_stopwords)\n",
    "words_data_ham = data_ham['text'].tolist()\n",
    "data_spam.loc[:, 'text'] = data_spam['text'].apply(remove_punctuation_and_stopwords)\n",
    "words_data_spam = data_spam['text'].tolist()"
   ]
  },
  {
   "cell_type": "code",
   "execution_count": 24,
   "metadata": {},
   "outputs": [],
   "source": [
    "list_ham_words = []\n",
    "for sublist in words_data_ham:\n",
    "    for item in sublist:\n",
    "        list_ham_words.append(item)"
   ]
  },
  {
   "cell_type": "code",
   "execution_count": 25,
   "metadata": {},
   "outputs": [],
   "source": [
    "list_spam_words = []\n",
    "for sublist in words_data_spam:\n",
    "    for item in sublist:\n",
    "        list_spam_words.append(item)"
   ]
  },
  {
   "cell_type": "code",
   "execution_count": 26,
   "metadata": {},
   "outputs": [],
   "source": [
    "c_ham  = Counter(list_ham_words)\n",
    "c_spam = Counter(list_spam_words)\n",
    "df_hamwords_top30  = pd.DataFrame(c_ham.most_common(30),  columns=['word', 'count'])\n",
    "df_spamwords_top30 = pd.DataFrame(c_spam.most_common(30), columns=['word', 'count'])"
   ]
  },
  {
   "cell_type": "code",
   "execution_count": 27,
   "metadata": {},
   "outputs": [
    {
     "data": {
      "image/png": "[encoded data removed]",
      "text/plain": [
       "<Figure size 720x432 with 1 Axes>"
      ]
     },
     "metadata": {
      "needs_background": "light"
     },
     "output_type": "display_data"
    }
   ],
   "source": [
    "fig, ax = plt.subplots(figsize=(10, 6))\n",
    "sns.barplot(x='word', y='count', \n",
    "            data=df_hamwords_top30, ax=ax)\n",
    "plt.title(\"Top 30 Ham words\")\n",
    "plt.xticks(rotation='vertical');"
   ]
  },
  {
   "cell_type": "code",
   "execution_count": 28,
   "metadata": {},
   "outputs": [
    {
     "data": {
      "image/png": "[encoded data removed]",
      "text/plain": [
       "<Figure size 720x432 with 1 Axes>"
      ]
     },
     "metadata": {
      "needs_background": "light"
     },
     "output_type": "display_data"
    }
   ],
   "source": [
    "fig, ax = plt.subplots(figsize=(10, 6))\n",
    "sns.barplot(x='word', y='count', \n",
    "            data=df_spamwords_top30, ax=ax)\n",
    "plt.title(\"Top 30 Spam words\")\n",
    "plt.xticks(rotation='vertical');"
   ]
  },
  {
   "cell_type": "code",
   "execution_count": null,
   "metadata": {},
   "outputs": [],
   "source": []
  },
  {
   "cell_type": "markdown",
   "metadata": {},
   "source": [
    "### 2.2.2 NLTK: FreqDist"
   ]
  },
  {
   "cell_type": "code",
   "execution_count": 29,
   "metadata": {},
   "outputs": [],
   "source": [
    "fdist_ham  = nltk.FreqDist(list_ham_words)\n",
    "fdist_spam = nltk.FreqDist(list_spam_words)"
   ]
  },
  {
   "cell_type": "code",
   "execution_count": 30,
   "metadata": {},
   "outputs": [],
   "source": [
    "df_hamwords_top30_nltk  = pd.DataFrame(fdist_ham.most_common(30),  columns=['word', 'count'])\n",
    "df_spamwords_top30_nltk = pd.DataFrame(fdist_spam.most_common(30), columns=['word', 'count'])"
   ]
  },
  {
   "cell_type": "code",
   "execution_count": 31,
   "metadata": {},
   "outputs": [
    {
     "data": {
      "image/png": "[encoded data removed]",
      "text/plain": [
       "<Figure size 720x432 with 1 Axes>"
      ]
     },
     "metadata": {
      "needs_background": "light"
     },
     "output_type": "display_data"
    }
   ],
   "source": [
    "fig, ax = plt.subplots(figsize=(10, 6))\n",
    "sns.barplot(x='word', y='count', \n",
    "            data=df_hamwords_top30_nltk, ax=ax)\n",
    "plt.title(\"Top 30 Ham words\")\n",
    "plt.xticks(rotation='vertical');"
   ]
  },
  {
   "cell_type": "code",
   "execution_count": 32,
   "metadata": {},
   "outputs": [
    {
     "data": {
      "image/png": "[encoded data removed]",
      "text/plain": [
       "<Figure size 720x432 with 1 Axes>"
      ]
     },
     "metadata": {
      "needs_background": "light"
     },
     "output_type": "display_data"
    }
   ],
   "source": [
    "fig, ax = plt.subplots(figsize=(10, 6))\n",
    "sns.barplot(x='word', y='count', \n",
    "            data=df_spamwords_top30_nltk, ax=ax)\n",
    "plt.title(\"Top 30 Spam words\")\n",
    "plt.xticks(rotation='vertical');"
   ]
  },
  {
   "cell_type": "code",
   "execution_count": null,
   "metadata": {},
   "outputs": [],
   "source": []
  },
  {
   "cell_type": "markdown",
   "metadata": {
    "_uuid": "22567bbef309b303857f55083a088c8f38069a50"
   },
   "source": [
    "## 2.2 Bag of words with CountVectorizer"
   ]
  },
  {
   "cell_type": "markdown",
   "metadata": {
    "_uuid": "b4f59da6ef1965d82e67a5bcc4784382d393f9f0"
   },
   "source": [
    "### The Bag of Words representation"
   ]
  },
  {
   "cell_type": "markdown",
   "metadata": {
    "_uuid": "0d3879613c6ea148a9e7b832e9e84e832bf37073"
   },
   "source": [
    "https://scikit-learn.org/stable/modules/feature_extraction.html#text-feature-extraction  \n",
    "\n",
    "Text Analysis is a major application field for machine learning algorithms. However the raw data, a sequence of symbols cannot be fed directly to the algorithms themselves as most of them expect numerical feature vectors with a fixed size rather than the raw text documents with variable length.  \n",
    "In order to address this, scikit-learn provides utilities for the most common ways to extract numerical features from text content, namely:\n",
    "\n",
    "**Tokenization**  \n",
    "tokenizing strings and giving an integer id for each possible token, for instance by using white-spaces and punctuation as token separators.  \n",
    "**Vectorization**  \n",
    "counting the occurrences of tokens in each document.  \n",
    "**TF-IDF**  \n",
    "normalizing and weighting with diminishing importance tokens that occur in the majority of samples / documents.  \n",
    "\n",
    "\n",
    "**Bag of Words**  \n",
    "In this scheme, features and samples are defined as follows:\n",
    "each individual token occurrence frequency (normalized or not) is treated as a feature.  \n",
    "the vector of all the token frequencies for a given document is considered a multivariate sample.  \n",
    "A corpus of documents can thus be represented by a matrix with one row per document and one column per token (e.g. word) occurring in the corpus.  \n",
    "We call vectorization the general process of turning a collection of text documents into numerical feature vectors.   \n",
    "This specific strategy (tokenization, counting and normalization) is called the **Bag of Words** or “Bag of n-grams” representation.  \n",
    "Documents are described by word occurrences while completely ignoring the relative position information of the words in the document."
   ]
  },
  {
   "cell_type": "markdown",
   "metadata": {
    "_uuid": "9c2d71c7f0ce91b0c88c8def0d19f514a9f73fc0"
   },
   "source": [
    "For futher details and example implementations see:  \n",
    "https://en.wikipedia.org/wiki/Bag-of-words_model  \n",
    "https://en.wikipedia.org/wiki/Document-term_matrix  \n",
    "\n",
    "An Introduction to Bag-of-Words in NLP  \n",
    "https://medium.com/greyatom/an-introduction-to-bag-of-words-in-nlp-ac967d43b428"
   ]
  },
  {
   "cell_type": "markdown",
   "metadata": {
    "_uuid": "d3ff0bbb14d8550b32f36fc04bddc8cf081d9087"
   },
   "source": [
    "In this kernel we apply the CountVectorizer from sklearn as BOW model.  \n",
    "https://scikit-learn.org/stable/modules/generated/sklearn.feature_extraction.text.CountVectorizer.html    \n",
    "As tokenizer we use the remove_punctuation_and_stopwords function defined above"
   ]
  },
  {
   "cell_type": "code",
   "execution_count": 33,
   "metadata": {
    "_uuid": "eda2cf09b93bc33d893d4133515ddef9f3dbf6d3"
   },
   "outputs": [],
   "source": [
    "from sklearn.feature_extraction.text import CountVectorizer\n",
    "bow_transformer = CountVectorizer(analyzer = remove_punctuation_and_stopwords).fit(data['text'])"
   ]
  },
  {
   "cell_type": "code",
   "execution_count": 34,
   "metadata": {
    "_uuid": "92ca036b1a95efd0c8fbd336b747a4868a960fcb"
   },
   "outputs": [
    {
     "name": "stdout",
     "output_type": "stream",
     "text": [
      "9431\n"
     ]
    }
   ],
   "source": [
    "print(len(bow_transformer.vocabulary_))"
   ]
  },
  {
   "cell_type": "markdown",
   "metadata": {
    "_uuid": "069f3f06649b4851e2188aade8bf16611c2ff98b"
   },
   "source": [
    "In all sms messages bow_transformer counted 9431 different words."
   ]
  },
  {
   "cell_type": "code",
   "execution_count": null,
   "metadata": {
    "_uuid": "b3a4998219d1f29059a895c04c18c888f715ad17"
   },
   "outputs": [],
   "source": []
  },
  {
   "cell_type": "markdown",
   "metadata": {
    "_uuid": "8e4f6a7394403f076dd6eef9a8927e47746370a1"
   },
   "source": [
    "### Examples for spam and ham messages"
   ]
  },
  {
   "cell_type": "markdown",
   "metadata": {
    "_uuid": "bf3023555a79d34bf050cbbb428198eb91c7119f"
   },
   "source": [
    "Lets look at some vectorization examples for spam and ham messages"
   ]
  },
  {
   "cell_type": "code",
   "execution_count": 35,
   "metadata": {
    "_uuid": "aed6b2ad047f291b51847d3dbe9d7fb48edea4fd"
   },
   "outputs": [
    {
     "name": "stdout",
     "output_type": "stream",
     "text": [
      "WINNER!! As a valued network customer you have been selected to receivea å£900 prize reward! To claim call 09061701461. Claim code KL341. Valid 12 hours only.\n",
      "  (0, 218)\t1\n",
      "  (0, 323)\t1\n",
      "  (0, 1906)\t1\n",
      "  (0, 2184)\t2\n",
      "  (0, 2245)\t1\n",
      "  (0, 2531)\t1\n",
      "  (0, 4194)\t1\n",
      "  (0, 4759)\t1\n",
      "  (0, 5707)\t1\n",
      "  (0, 6538)\t1\n",
      "  (0, 6775)\t1\n",
      "  (0, 6946)\t1\n",
      "  (0, 7209)\t1\n",
      "  (0, 8694)\t1\n",
      "  (0, 8698)\t1\n",
      "  (0, 9028)\t1\n",
      "  (0, 9418)\t1\n"
     ]
    }
   ],
   "source": [
    "sample_spam = data['text'][8]\n",
    "bow_sample_spam = bow_transformer.transform([sample_spam])\n",
    "print(sample_spam)\n",
    "print(bow_sample_spam)"
   ]
  },
  {
   "cell_type": "code",
   "execution_count": 36,
   "metadata": {},
   "outputs": [
    {
     "name": "stdout",
     "output_type": "stream",
     "text": [
      "09061701461\n",
      "12\n",
      "call\n",
      "claim\n",
      "code\n",
      "customer\n",
      "hours\n",
      "kl341\n",
      "network\n",
      "prize\n",
      "receivea\n",
      "reward\n",
      "selected\n",
      "valid\n",
      "valued\n",
      "winner\n",
      "å£900\n"
     ]
    }
   ],
   "source": [
    "rows, cols = bow_sample_spam.nonzero()\n",
    "for col in cols: \n",
    "    print(bow_transformer.get_feature_names()[col])"
   ]
  },
  {
   "cell_type": "code",
   "execution_count": 37,
   "metadata": {
    "_uuid": "b8780104e357122de05157333eff275d46526c62"
   },
   "outputs": [
    {
     "name": "stdout",
     "output_type": "stream",
     "text": [
      "(1, 9431)\n"
     ]
    }
   ],
   "source": [
    "print(np.shape(bow_sample_spam))"
   ]
  },
  {
   "cell_type": "code",
   "execution_count": null,
   "metadata": {},
   "outputs": [],
   "source": []
  },
  {
   "cell_type": "code",
   "execution_count": 38,
   "metadata": {
    "_uuid": "4f6d3995c2a0b364fed178d399ae36a0cf6133d2"
   },
   "outputs": [
    {
     "name": "stdout",
     "output_type": "stream",
     "text": [
      "Nah I don't think he goes to usf, he lives around here though\n",
      "  (0, 1279)\t1\n",
      "  (0, 2882)\t1\n",
      "  (0, 3762)\t1\n",
      "  (0, 5004)\t1\n",
      "  (0, 5631)\t1\n",
      "  (0, 8224)\t1\n",
      "  (0, 8243)\t1\n",
      "  (0, 8664)\t1\n"
     ]
    }
   ],
   "source": [
    "sample_ham = data['text'][4]\n",
    "bow_sample_ham = bow_transformer.transform([sample_ham])\n",
    "print(sample_ham)\n",
    "print(bow_sample_ham)"
   ]
  },
  {
   "cell_type": "code",
   "execution_count": 39,
   "metadata": {},
   "outputs": [
    {
     "name": "stdout",
     "output_type": "stream",
     "text": [
      "around\n",
      "dont\n",
      "goes\n",
      "lives\n",
      "nah\n",
      "think\n",
      "though\n",
      "usf\n"
     ]
    }
   ],
   "source": [
    "rows, cols = bow_sample_ham.nonzero()\n",
    "for col in cols: \n",
    "    print(bow_transformer.get_feature_names()[col])"
   ]
  },
  {
   "cell_type": "code",
   "execution_count": null,
   "metadata": {},
   "outputs": [],
   "source": []
  },
  {
   "cell_type": "code",
   "execution_count": null,
   "metadata": {},
   "outputs": [],
   "source": []
  },
  {
   "cell_type": "markdown",
   "metadata": {
    "_uuid": "f78df8555292ca47c4000ea29214044a8a6f193e"
   },
   "source": [
    "### Applying bow_transformer on all messages"
   ]
  },
  {
   "cell_type": "code",
   "execution_count": 40,
   "metadata": {
    "_uuid": "7afebe912b171c75db39ff6dd2b2f326bb2ab33e"
   },
   "outputs": [],
   "source": [
    "bow_data = bow_transformer.transform(data['text'])"
   ]
  },
  {
   "cell_type": "code",
   "execution_count": 41,
   "metadata": {
    "_uuid": "c346737685259d8f2b70a9e5f49b77bbd81892a9"
   },
   "outputs": [
    {
     "data": {
      "text/plain": [
       "(5572, 9431)"
      ]
     },
     "execution_count": 41,
     "metadata": {},
     "output_type": "execute_result"
    }
   ],
   "source": [
    "bow_data.shape"
   ]
  },
  {
   "cell_type": "code",
   "execution_count": 42,
   "metadata": {
    "_uuid": "e1a8ddbe80a38a8e3b233c769657f4adbc95dcce"
   },
   "outputs": [
    {
     "data": {
      "text/plain": [
       "49772"
      ]
     },
     "execution_count": 42,
     "metadata": {},
     "output_type": "execute_result"
    }
   ],
   "source": [
    "bow_data.nnz"
   ]
  },
  {
   "cell_type": "code",
   "execution_count": null,
   "metadata": {
    "_uuid": "c5f54d816940a9447989ad3add6b2849953a9a3e"
   },
   "outputs": [],
   "source": []
  },
  {
   "cell_type": "markdown",
   "metadata": {
    "_uuid": "c050910c4505978b6abf83e638b9efb6b46fc959"
   },
   "source": [
    "**Sparsity: percentage of none zero entries**  \n",
    "https://scikit-learn.org/stable/modules/feature_extraction.html#text-feature-extraction  \n",
    "**Sparsity**  \n",
    "As most documents will typically use a very small subset of the words used in the corpus,  \n",
    "the resulting matrix will have many feature values that are zeros (typically more than 99% of them).  \n",
    "For instance a collection of 10,000 short text documents (such as emails) will use a vocabulary  \n",
    "with a size in the order of 100,000 unique words in total while each document will use 100 to   \n",
    "1000 unique words individually.  \n",
    "In order to be able to store such a matrix in memory but also to speed up algebraic operations matrix / vector,  \n",
    "implementations will typically use a sparse representation such as available in the scipy.sparse package.\n"
   ]
  },
  {
   "cell_type": "code",
   "execution_count": 43,
   "metadata": {
    "_uuid": "cb69e61eb5066af722d1d4389dd2a8afaaa80f5b"
   },
   "outputs": [
    {
     "data": {
      "text/plain": [
       "<5572x9431 sparse matrix of type '<class 'numpy.int64'>'\n",
       "\twith 49772 stored elements in Compressed Sparse Row format>"
      ]
     },
     "execution_count": 43,
     "metadata": {},
     "output_type": "execute_result"
    }
   ],
   "source": [
    "bow_data"
   ]
  },
  {
   "cell_type": "code",
   "execution_count": 44,
   "metadata": {
    "_uuid": "9386c74ce10b6c8c5b1c7d21413d3c5019e00606"
   },
   "outputs": [
    {
     "data": {
      "text/plain": [
       "5572"
      ]
     },
     "execution_count": 44,
     "metadata": {},
     "output_type": "execute_result"
    }
   ],
   "source": [
    "bow_data.shape[0]"
   ]
  },
  {
   "cell_type": "code",
   "execution_count": 45,
   "metadata": {
    "_uuid": "147aecb10addaee63be626fa299555654a0449b2"
   },
   "outputs": [
    {
     "data": {
      "text/plain": [
       "9431"
      ]
     },
     "execution_count": 45,
     "metadata": {},
     "output_type": "execute_result"
    }
   ],
   "source": [
    "bow_data.shape[1]"
   ]
  },
  {
   "cell_type": "code",
   "execution_count": 46,
   "metadata": {
    "_uuid": "c0a67e9663c17edf16718b8ecc4d40be2f15345f"
   },
   "outputs": [
    {
     "data": {
      "text/plain": [
       "49772"
      ]
     },
     "execution_count": 46,
     "metadata": {},
     "output_type": "execute_result"
    }
   ],
   "source": [
    "bow_data.nnz"
   ]
  },
  {
   "cell_type": "markdown",
   "metadata": {
    "_uuid": "946ea9e4f865aba3e6d28da6b326c6e0b7b3dd0d"
   },
   "source": [
    "number of none zero entries divided by matrix size  "
   ]
  },
  {
   "cell_type": "code",
   "execution_count": 47,
   "metadata": {
    "_uuid": "de2aee91877b45651de69cdf576ee79a5bd6c04a"
   },
   "outputs": [
    {
     "name": "stdout",
     "output_type": "stream",
     "text": [
      "0.09471444959776236\n"
     ]
    }
   ],
   "source": [
    "print( bow_data.nnz / (bow_data.shape[0] * bow_data.shape[1]) *100 )"
   ]
  },
  {
   "cell_type": "markdown",
   "metadata": {
    "_uuid": "c58e4914d2bfc63fe69c94e1e02a8db14378cb6b"
   },
   "source": [
    "Around 10% of the matrix are non zeros (=ones)"
   ]
  },
  {
   "cell_type": "code",
   "execution_count": null,
   "metadata": {
    "_uuid": "9e6af25790a2dc1d236703d4692eaef1a6e4ccfb"
   },
   "outputs": [],
   "source": []
  },
  {
   "cell_type": "code",
   "execution_count": null,
   "metadata": {
    "_uuid": "34171014a4d1bbbb89f635fa0f28561140162eef"
   },
   "outputs": [],
   "source": []
  },
  {
   "cell_type": "markdown",
   "metadata": {
    "_uuid": "8968ae791a11a649e589b95236f8515d12d0dba1"
   },
   "source": [
    "## 2.3 Term frequency inverse document frequency - TFIDF"
   ]
  },
  {
   "cell_type": "markdown",
   "metadata": {
    "_uuid": "cecafb740fb49406220b1c354ce9a429e822e1e7"
   },
   "source": [
    "### From occurrences to frequencies  \n",
    "https://scikit-learn.org/stable/tutorial/text_analytics/working_with_text_data.html#from-occurrences-to-frequencies\n",
    "\n",
    "Occurrence count is a good start but there is an issue: longer documents will have higher average count values  \n",
    "than shorter documents, even though they might talk about the same topics.  \n",
    "To avoid these potential discrepancies it suffices to divide the number of occurrences of each word in a document  \n",
    "by the total number of words in the document: these new features are called **tf for Term Frequencies**.  \n",
    "Another refinement on top of tf is to downscale weights for words that occur in many documents in the corpus and are  \n",
    "therefore less informative than those that occur only in a smaller portion of the corpus.  \n",
    "This downscaling is called **tf–idf for “Term Frequency times Inverse Document Frequency”**."
   ]
  },
  {
   "cell_type": "markdown",
   "metadata": {
    "_uuid": "e9d280f9fcc8a25e59e1dca52d5de26dc3ba3de1"
   },
   "source": [
    "For futher details and example implementations see:  \n",
    "https://en.wikipedia.org/wiki/Tf%E2%80%93idf"
   ]
  },
  {
   "cell_type": "markdown",
   "metadata": {
    "_uuid": "c3f25088775f0caa568fef7164a0475d27f5302a"
   },
   "source": [
    "https://www.kaggle.com/adamschroeder/countvectorizer-tfidfvectorizer-predict-comments"
   ]
  },
  {
   "cell_type": "markdown",
   "metadata": {
    "_uuid": "574b03a52794e4124d47e653f44320e29f73a169"
   },
   "source": [
    "### TfidfTransformer from sklearn\n",
    "Both tf and tf–idf can be computed as follows using TfidfTransformer:   \n",
    "https://scikit-learn.org/stable/modules/generated/sklearn.feature_extraction.text.TfidfTransformer.html"
   ]
  },
  {
   "cell_type": "code",
   "execution_count": 48,
   "metadata": {
    "_uuid": "bc362886dcc6db5f68e03031d87dece50b0b500f"
   },
   "outputs": [],
   "source": [
    "from sklearn.feature_extraction.text import TfidfTransformer\n",
    "\n",
    "tfidf_transformer = TfidfTransformer().fit(bow_data)"
   ]
  },
  {
   "cell_type": "code",
   "execution_count": null,
   "metadata": {
    "_uuid": "ba16200dd77c59a8e50f1270920c50c1c386a01d"
   },
   "outputs": [],
   "source": []
  },
  {
   "cell_type": "code",
   "execution_count": 49,
   "metadata": {
    "_uuid": "f80ca5b3bbdf2a5f89e5046fd5c7097c5a9c1d8f"
   },
   "outputs": [
    {
     "name": "stdout",
     "output_type": "stream",
     "text": [
      "  (0, 8664)\t0.4000611457714059\n",
      "  (0, 8243)\t0.35462891367407595\n",
      "  (0, 8224)\t0.2665748147939407\n",
      "  (0, 5631)\t0.40493594386802356\n",
      "  (0, 5004)\t0.44910913790937335\n",
      "  (0, 3762)\t0.35674330934716636\n",
      "  (0, 2882)\t0.23016324066220836\n",
      "  (0, 1279)\t0.31179198007951625\n"
     ]
    }
   ],
   "source": [
    "tfidf_sample_ham = tfidf_transformer.transform(bow_sample_ham)\n",
    "print(tfidf_sample_ham)"
   ]
  },
  {
   "cell_type": "code",
   "execution_count": 50,
   "metadata": {
    "_uuid": "c50ea5d0fad1e579741b3d879d4201ad059d3c1a"
   },
   "outputs": [
    {
     "name": "stdout",
     "output_type": "stream",
     "text": [
      "  (0, 9418)\t0.2604683359422661\n",
      "  (0, 9028)\t0.23445094204464131\n",
      "  (0, 8698)\t0.24115248419490207\n",
      "  (0, 8694)\t0.22254833340975305\n",
      "  (0, 7209)\t0.2148462495005997\n",
      "  (0, 6946)\t0.2564029044370425\n",
      "  (0, 6775)\t0.2943229069695555\n",
      "  (0, 6538)\t0.178899142428953\n",
      "  (0, 5707)\t0.2148462495005997\n",
      "  (0, 4759)\t0.2943229069695555\n",
      "  (0, 4194)\t0.22555164191980467\n",
      "  (0, 2531)\t0.1915015107445745\n",
      "  (0, 2245)\t0.21371446699888028\n",
      "  (0, 2184)\t0.3406301232141347\n",
      "  (0, 1906)\t0.1153380143353214\n",
      "  (0, 323)\t0.2387711073538672\n",
      "  (0, 218)\t0.2943229069695555\n"
     ]
    }
   ],
   "source": [
    "tfidf_sample_spam = tfidf_transformer.transform(bow_sample_spam)\n",
    "print(tfidf_sample_spam)"
   ]
  },
  {
   "cell_type": "code",
   "execution_count": null,
   "metadata": {
    "_uuid": "cb6c826546bba11a45d88a6e65bb18a231ba0eb1"
   },
   "outputs": [],
   "source": []
  },
  {
   "cell_type": "code",
   "execution_count": 51,
   "metadata": {
    "_uuid": "71d9302f4d0895922b5d7197338bf482410279e2"
   },
   "outputs": [],
   "source": [
    "data_tfidf = tfidf_transformer.transform(bow_data)"
   ]
  },
  {
   "cell_type": "code",
   "execution_count": 52,
   "metadata": {
    "_uuid": "46472347f3522d5669bf6dd48fd759570b079378"
   },
   "outputs": [
    {
     "data": {
      "text/plain": [
       "<5572x9431 sparse matrix of type '<class 'numpy.float64'>'\n",
       "\twith 49772 stored elements in Compressed Sparse Row format>"
      ]
     },
     "execution_count": 52,
     "metadata": {},
     "output_type": "execute_result"
    }
   ],
   "source": [
    "data_tfidf"
   ]
  },
  {
   "cell_type": "code",
   "execution_count": 53,
   "metadata": {},
   "outputs": [
    {
     "data": {
      "text/plain": [
       "(5572, 9431)"
      ]
     },
     "execution_count": 53,
     "metadata": {},
     "output_type": "execute_result"
    }
   ],
   "source": [
    "np.shape(data_tfidf)"
   ]
  },
  {
   "cell_type": "code",
   "execution_count": null,
   "metadata": {},
   "outputs": [],
   "source": []
  },
  {
   "cell_type": "markdown",
   "metadata": {},
   "source": [
    "## train test split"
   ]
  },
  {
   "cell_type": "markdown",
   "metadata": {},
   "source": [
    "for TFIDF matrix only"
   ]
  },
  {
   "cell_type": "code",
   "execution_count": 54,
   "metadata": {},
   "outputs": [],
   "source": [
    "from sklearn.model_selection import train_test_split\n",
    "\n",
    "data_tfidf_train, data_tfidf_test, label_train, label_test = \\\n",
    "    train_test_split(data_tfidf, data[\"spam\"], test_size=0.3, random_state=5)"
   ]
  },
  {
   "cell_type": "code",
   "execution_count": 55,
   "metadata": {},
   "outputs": [
    {
     "data": {
      "text/plain": [
       "<3900x9431 sparse matrix of type '<class 'numpy.float64'>'\n",
       "\twith 35125 stored elements in Compressed Sparse Row format>"
      ]
     },
     "execution_count": 55,
     "metadata": {},
     "output_type": "execute_result"
    }
   ],
   "source": [
    "data_tfidf_train"
   ]
  },
  {
   "cell_type": "code",
   "execution_count": 56,
   "metadata": {
    "_uuid": "c060c8eb5dcc435b48c5b767a89a17c962893295"
   },
   "outputs": [
    {
     "data": {
      "text/plain": [
       "<1672x9431 sparse matrix of type '<class 'numpy.float64'>'\n",
       "\twith 14647 stored elements in Compressed Sparse Row format>"
      ]
     },
     "execution_count": 56,
     "metadata": {},
     "output_type": "execute_result"
    }
   ],
   "source": [
    "data_tfidf_test"
   ]
  },
  {
   "cell_type": "code",
   "execution_count": null,
   "metadata": {},
   "outputs": [],
   "source": []
  },
  {
   "cell_type": "markdown",
   "metadata": {},
   "source": [
    "for TFIDF matrix and feature \"length\""
   ]
  },
  {
   "cell_type": "code",
   "execution_count": 57,
   "metadata": {},
   "outputs": [],
   "source": [
    "from scipy.sparse import  hstack\n",
    "X2 = hstack((data_tfidf ,np.array(data['length'])[:,None])).A"
   ]
  },
  {
   "cell_type": "code",
   "execution_count": 58,
   "metadata": {},
   "outputs": [],
   "source": [
    "X2_train, X2_test, y2_train, y2_test = \\\n",
    "    train_test_split(X2, data[\"spam\"], test_size=0.3, random_state=5)"
   ]
  },
  {
   "cell_type": "code",
   "execution_count": null,
   "metadata": {},
   "outputs": [],
   "source": []
  },
  {
   "cell_type": "code",
   "execution_count": null,
   "metadata": {},
   "outputs": [],
   "source": []
  },
  {
   "cell_type": "markdown",
   "metadata": {
    "_uuid": "f206a0ea10a5997e7509bccd25e2d72e045f56ae"
   },
   "source": [
    "# Part 3: Classifiers"
   ]
  },
  {
   "cell_type": "code",
   "execution_count": null,
   "metadata": {
    "_uuid": "347dcda838abc7c4b452cee43076d430606a52e4"
   },
   "outputs": [],
   "source": []
  },
  {
   "cell_type": "markdown",
   "metadata": {
    "_uuid": "2c4181849789efae863fee973649f7827f2bd20e"
   },
   "source": [
    "## 3.1 First test for Classification  "
   ]
  },
  {
   "cell_type": "markdown",
   "metadata": {},
   "source": [
    "### Naive Bayes Classifier"
   ]
  },
  {
   "cell_type": "markdown",
   "metadata": {},
   "source": [
    "sparse matrix to matrix"
   ]
  },
  {
   "cell_type": "code",
   "execution_count": 59,
   "metadata": {},
   "outputs": [],
   "source": [
    "data_tfidf_train = data_tfidf_train.A\n",
    "data_tfidf_test = data_tfidf_test.A"
   ]
  },
  {
   "cell_type": "code",
   "execution_count": null,
   "metadata": {},
   "outputs": [],
   "source": []
  },
  {
   "cell_type": "markdown",
   "metadata": {},
   "source": [
    "MNB Model using only TFIDF matrix"
   ]
  },
  {
   "cell_type": "code",
   "execution_count": 60,
   "metadata": {},
   "outputs": [
    {
     "name": "stdout",
     "output_type": "stream",
     "text": [
      "0.965311004784689\n"
     ]
    }
   ],
   "source": [
    "spam_detect_model = MultinomialNB().fit(data_tfidf_train, label_train)\n",
    "pred_test_MNB = spam_detect_model.predict(data_tfidf_test)\n",
    "acc_MNB = accuracy_score(label_test, pred_test_MNB)\n",
    "print(acc_MNB)"
   ]
  },
  {
   "cell_type": "markdown",
   "metadata": {
    "_uuid": "6cbc3816802cc4cfe056dd7d6c906955b84526fd"
   },
   "source": [
    "Our first classifier seems to work well, it has an accuracy of 96.5 % for the test set.  "
   ]
  },
  {
   "cell_type": "code",
   "execution_count": null,
   "metadata": {},
   "outputs": [],
   "source": []
  },
  {
   "cell_type": "code",
   "execution_count": 61,
   "metadata": {},
   "outputs": [],
   "source": [
    "scaler = MinMaxScaler()\n",
    "data_tfidf_train_sc = scaler.fit_transform(data_tfidf_train)\n",
    "data_tfidf_test_sc  = scaler.transform(data_tfidf_test)"
   ]
  },
  {
   "cell_type": "markdown",
   "metadata": {},
   "source": [
    "MNB Model using only TFIDF matrix, scaled"
   ]
  },
  {
   "cell_type": "code",
   "execution_count": 62,
   "metadata": {},
   "outputs": [
    {
     "name": "stdout",
     "output_type": "stream",
     "text": [
      "0.9826555023923444\n"
     ]
    }
   ],
   "source": [
    "spam_detect_model_minmax = MultinomialNB().fit(data_tfidf_train_sc, label_train)\n",
    "pred_test_MNB = spam_detect_model_minmax.predict(data_tfidf_test_sc)\n",
    "acc_MNB = accuracy_score(label_test, pred_test_MNB)\n",
    "print(acc_MNB)"
   ]
  },
  {
   "cell_type": "markdown",
   "metadata": {},
   "source": [
    "Applying the min max scaler on the TFIDF matrix improves the performance of the MNB classifier:  \n",
    "It now has an accuracy of 98.2 % for the test set. "
   ]
  },
  {
   "cell_type": "code",
   "execution_count": null,
   "metadata": {},
   "outputs": [],
   "source": []
  },
  {
   "cell_type": "markdown",
   "metadata": {},
   "source": [
    "MNB model with TFIDF matrix and feature \"length\", unscaled"
   ]
  },
  {
   "cell_type": "code",
   "execution_count": 63,
   "metadata": {},
   "outputs": [
    {
     "name": "stdout",
     "output_type": "stream",
     "text": [
      "0.8761961722488039\n"
     ]
    }
   ],
   "source": [
    "spam_detect_model_2 = MultinomialNB().fit(X2_train, y2_train)\n",
    "pred_test_MNB_2 = spam_detect_model_2.predict(X2_test)\n",
    "acc_MNB_2 = accuracy_score(y2_test, pred_test_MNB_2)\n",
    "print(acc_MNB_2)"
   ]
  },
  {
   "cell_type": "markdown",
   "metadata": {},
   "source": [
    "Fitting MNB with the unscaled features TFIDF + length of message decreases performance.  \n",
    "Lets now check the fit with the scaled features."
   ]
  },
  {
   "cell_type": "code",
   "execution_count": 64,
   "metadata": {},
   "outputs": [],
   "source": [
    "X2_tfidf_train = X2_train[:,0:9431]\n",
    "X2_tfidf_test  = X2_test[:,0:9431]\n",
    "X2_length_train = X2_train[:,9431]\n",
    "X2_length_test  = X2_test[:,9431]"
   ]
  },
  {
   "cell_type": "code",
   "execution_count": 65,
   "metadata": {},
   "outputs": [],
   "source": [
    "scaler = MinMaxScaler()\n",
    "X2_tfidf_train = scaler.fit_transform(X2_tfidf_train)\n",
    "X2_tfidf_test  = scaler.transform(X2_tfidf_test)"
   ]
  },
  {
   "cell_type": "code",
   "execution_count": 66,
   "metadata": {},
   "outputs": [],
   "source": [
    "scaler = MinMaxScaler()\n",
    "X2_length_train = scaler.fit_transform(X2_length_train.reshape(-1, 1))\n",
    "X2_length_test  = scaler.transform(X2_length_test.reshape(-1, 1))"
   ]
  },
  {
   "cell_type": "code",
   "execution_count": 67,
   "metadata": {},
   "outputs": [],
   "source": [
    "X2_train = np.hstack((X2_tfidf_train, X2_length_train))\n",
    "X2_test  = np.hstack((X2_tfidf_test,  X2_length_test))"
   ]
  },
  {
   "cell_type": "markdown",
   "metadata": {},
   "source": [
    "MNB model with TFIDF matrix and feature \"length\", scaled"
   ]
  },
  {
   "cell_type": "code",
   "execution_count": 68,
   "metadata": {},
   "outputs": [
    {
     "name": "stdout",
     "output_type": "stream",
     "text": [
      "0.9826555023923444\n"
     ]
    }
   ],
   "source": [
    "spam_detect_model_3 = MultinomialNB().fit(X2_train, y2_train)\n",
    "pred_test_MNB_3 = spam_detect_model_3.predict(X2_test)\n",
    "acc_MNB_3 = accuracy_score(y2_test, pred_test_MNB_3)\n",
    "print(acc_MNB_3)"
   ]
  },
  {
   "cell_type": "markdown",
   "metadata": {},
   "source": [
    "We studied the same classifier, Multinomial Naive Bayes, with different set of features and found that the results vary regarding the accuracy of the predictions.  \n",
    "In the following we study a different classifier, again with different set of features.\n",
    "Also we study what this accuracy actually means and also if this metric is the optimal one we should apply for this task."
   ]
  },
  {
   "cell_type": "markdown",
   "metadata": {},
   "source": [
    "KNN"
   ]
  },
  {
   "cell_type": "code",
   "execution_count": 69,
   "metadata": {},
   "outputs": [
    {
     "name": "stdout",
     "output_type": "stream",
     "text": [
      "Fitting 5 folds for each of 3 candidates, totalling 15 fits\n"
     ]
    },
    {
     "name": "stderr",
     "output_type": "stream",
     "text": [
      "[Parallel(n_jobs=-1)]: Using backend LokyBackend with 4 concurrent workers.\n",
      "[Parallel(n_jobs=-1)]: Done  15 out of  15 | elapsed:  4.7min finished\n"
     ]
    },
    {
     "data": {
      "text/plain": [
       "GridSearchCV(cv=5, error_score='raise-deprecating',\n",
       "             estimator=KNeighborsClassifier(algorithm='auto', leaf_size=30,\n",
       "                                            metric='minkowski',\n",
       "                                            metric_params=None, n_jobs=None,\n",
       "                                            n_neighbors=5, p=2,\n",
       "                                            weights='uniform'),\n",
       "             iid='warn', n_jobs=-1, param_grid={'n_neighbors': (10, 15, 17)},\n",
       "             pre_dispatch='2*n_jobs', refit=True, return_train_score=False,\n",
       "             scoring=None, verbose=1)"
      ]
     },
     "execution_count": 69,
     "metadata": {},
     "output_type": "execute_result"
    }
   ],
   "source": [
    "parameters_KNN = {'n_neighbors': (10,15,17), }\n",
    "\n",
    "grid_KNN = GridSearchCV( KNeighborsClassifier(), parameters_KNN, cv=5,\n",
    "                        n_jobs=-1, verbose=1)\n",
    "\n",
    "grid_KNN.fit(data_tfidf_train, label_train)"
   ]
  },
  {
   "cell_type": "code",
   "execution_count": 70,
   "metadata": {
    "_uuid": "01480b009d97fd3167f36e02123f8db5abf19bb4"
   },
   "outputs": [
    {
     "name": "stdout",
     "output_type": "stream",
     "text": [
      "{'n_neighbors': 15}\n",
      "0.9364102564102564\n"
     ]
    }
   ],
   "source": [
    "print(grid_KNN.best_params_)\n",
    "print(grid_KNN.best_score_)"
   ]
  },
  {
   "cell_type": "code",
   "execution_count": 71,
   "metadata": {},
   "outputs": [
    {
     "name": "stdout",
     "output_type": "stream",
     "text": [
      "Fitting 5 folds for each of 3 candidates, totalling 15 fits\n"
     ]
    },
    {
     "name": "stderr",
     "output_type": "stream",
     "text": [
      "[Parallel(n_jobs=-1)]: Using backend LokyBackend with 4 concurrent workers.\n",
      "[Parallel(n_jobs=-1)]: Done  15 out of  15 | elapsed:  4.6min finished\n"
     ]
    },
    {
     "data": {
      "text/plain": [
       "GridSearchCV(cv=5, error_score='raise-deprecating',\n",
       "             estimator=KNeighborsClassifier(algorithm='auto', leaf_size=30,\n",
       "                                            metric='minkowski',\n",
       "                                            metric_params=None, n_jobs=None,\n",
       "                                            n_neighbors=5, p=2,\n",
       "                                            weights='uniform'),\n",
       "             iid='warn', n_jobs=-1, param_grid={'n_neighbors': (6, 8, 10)},\n",
       "             pre_dispatch='2*n_jobs', refit=True, return_train_score=False,\n",
       "             scoring=None, verbose=1)"
      ]
     },
     "execution_count": 71,
     "metadata": {},
     "output_type": "execute_result"
    }
   ],
   "source": [
    "parameters_KNN = {'n_neighbors': (6,8,10), }\n",
    "grid_KNN = GridSearchCV( KNeighborsClassifier(), parameters_KNN, cv=5,\n",
    "                        n_jobs=-1, verbose=1)\n",
    "grid_KNN.fit(data_tfidf_train_sc, label_train)"
   ]
  },
  {
   "cell_type": "code",
   "execution_count": 72,
   "metadata": {},
   "outputs": [
    {
     "name": "stdout",
     "output_type": "stream",
     "text": [
      "{'n_neighbors': 6}\n",
      "0.8743589743589744\n"
     ]
    }
   ],
   "source": [
    "print(grid_KNN.best_params_)\n",
    "print(grid_KNN.best_score_)"
   ]
  },
  {
   "cell_type": "markdown",
   "metadata": {
    "_uuid": "1627a592628703b79643715903239d9bac9e8321"
   },
   "source": [
    "## 3.2 train test split"
   ]
  },
  {
   "cell_type": "markdown",
   "metadata": {},
   "source": [
    "for text data"
   ]
  },
  {
   "cell_type": "code",
   "execution_count": 73,
   "metadata": {
    "_uuid": "44e528fc9bbd846cbd235a7d9f6425d88fb5114e"
   },
   "outputs": [],
   "source": [
    "from sklearn.model_selection import train_test_split\n",
    "\n",
    "sms_train, sms_test, label_train, label_test = \\\n",
    "    train_test_split(data[\"text\"], data[\"spam\"], test_size=0.3, random_state=5)"
   ]
  },
  {
   "cell_type": "code",
   "execution_count": 74,
   "metadata": {
    "_uuid": "77e34b5a7b77cf0a0c1a0e111f6fd3df4a7d6410"
   },
   "outputs": [
    {
     "data": {
      "text/plain": [
       "3507    Camera quite good, 10.1mega pixels, 3optical a...\n",
       "1332            It's ok lar. U sleep early too... Nite...\n",
       "4259        Are you plans with your family set in stone ?\n",
       "1236                             How much are we getting?\n",
       "2132    Your B4U voucher w/c 27/03 is MARSMS. Log onto...\n",
       "Name: text, dtype: object"
      ]
     },
     "execution_count": 74,
     "metadata": {},
     "output_type": "execute_result"
    }
   ],
   "source": [
    "sms_train.head()"
   ]
  },
  {
   "cell_type": "code",
   "execution_count": null,
   "metadata": {
    "_uuid": "10423816907b50e971d57f2e5ca231f810d4c4ac"
   },
   "outputs": [],
   "source": []
  },
  {
   "cell_type": "markdown",
   "metadata": {
    "_uuid": "c0f7c4b43b754d92c49907e2460f4316181469b6"
   },
   "source": [
    "## 3.3 Classification Pipelines"
   ]
  },
  {
   "cell_type": "markdown",
   "metadata": {
    "_uuid": "e9de6be8ac49c14d38d68a16b01a0d987de546c3"
   },
   "source": [
    "After splitting the data into a train and test set we now use a pipeline to apply the   \n",
    "**CountVectorizer** and the **TfidfTransformer** on both sets.  \n",
    "We also add a classifier to the pipeline, so we can combine all necessary steps in one object:  \n",
    "* Preprecocessing  \n",
    "* Crossvalidation (GridsearchCV)\n",
    "* Fitting  \n",
    "* Predicting\n",
    "* Evaluating (test score)"
   ]
  },
  {
   "cell_type": "code",
   "execution_count": null,
   "metadata": {
    "_uuid": "0a46deb491be34f6996ba25d7413b81fd22d7359"
   },
   "outputs": [],
   "source": []
  },
  {
   "cell_type": "markdown",
   "metadata": {
    "_uuid": "96adf620c8154e6c879193e03c6682e90a51a15c"
   },
   "source": [
    "### 3.3.1 MultinomialNB"
   ]
  },
  {
   "cell_type": "markdown",
   "metadata": {},
   "source": [
    "**simple Pipeline. no optimization**"
   ]
  },
  {
   "cell_type": "code",
   "execution_count": 75,
   "metadata": {
    "_uuid": "73c6e99b7980f41cfd7d44f0e999eb15d4561f23"
   },
   "outputs": [],
   "source": [
    "pipe_MNB = Pipeline([ ('bow'  , CountVectorizer(analyzer = remove_punctuation_and_stopwords) ),\n",
    "                   ('tfidf'   , TfidfTransformer()),\n",
    "                   ('clf_MNB' , MultinomialNB()),\n",
    "                    ])"
   ]
  },
  {
   "cell_type": "markdown",
   "metadata": {},
   "source": [
    "**test score**"
   ]
  },
  {
   "cell_type": "code",
   "execution_count": 76,
   "metadata": {
    "_uuid": "35e991c44093fe5f5bb72f65398c36f28c06402b"
   },
   "outputs": [
    {
     "name": "stdout",
     "output_type": "stream",
     "text": [
      "0.9665071770334929\n",
      "0.9665071770334929\n"
     ]
    }
   ],
   "source": [
    "pipe_MNB.fit(X=sms_train, y=label_train)\n",
    "pred_test_MNB = pipe_MNB.predict(sms_test)\n",
    "acc_MNB = accuracy_score(label_test, pred_test_MNB)\n",
    "print(acc_MNB)\n",
    "print(pipe_MNB.score(sms_test, label_test))"
   ]
  },
  {
   "cell_type": "markdown",
   "metadata": {},
   "source": [
    "The two steps  \n",
    "**CountVectorizer** and **TfidfTransformer**  \n",
    "can also be performed in one step with  \n",
    "**TfidfVectorizer**  \n",
    "https://scikit-learn.org/stable/modules/generated/sklearn.feature_extraction.text.TfidfVectorizer.html  \n",
    "Convert a collection of raw documents to a matrix of TF-IDF features  \n",
    "Equivalent to CountVectorizer followed by TfidfTransformer."
   ]
  },
  {
   "cell_type": "code",
   "execution_count": 77,
   "metadata": {},
   "outputs": [],
   "source": [
    "from sklearn.feature_extraction.text import TfidfVectorizer"
   ]
  },
  {
   "cell_type": "code",
   "execution_count": 78,
   "metadata": {},
   "outputs": [],
   "source": [
    "pipe_MNB_tfidfvec = Pipeline([ ('tfidf_vec' , TfidfVectorizer(analyzer = remove_punctuation_and_stopwords)),\n",
    "                               ('clf_MNB'   , MultinomialNB()),\n",
    "                            ])"
   ]
  },
  {
   "cell_type": "code",
   "execution_count": 79,
   "metadata": {},
   "outputs": [
    {
     "name": "stdout",
     "output_type": "stream",
     "text": [
      "0.9665071770334929\n",
      "0.9665071770334929\n"
     ]
    }
   ],
   "source": [
    "pipe_MNB_tfidfvec.fit(X=sms_train, y=label_train)\n",
    "pred_test_MNB_tfidfvec = pipe_MNB_tfidfvec.predict(sms_test)\n",
    "acc_MNB_tfidfvec = accuracy_score(label_test, pred_test_MNB_tfidfvec)\n",
    "print(acc_MNB_tfidfvec)\n",
    "print(pipe_MNB_tfidfvec.score(sms_test, label_test))"
   ]
  },
  {
   "cell_type": "markdown",
   "metadata": {},
   "source": [
    "**Yes, results are identical**"
   ]
  },
  {
   "cell_type": "code",
   "execution_count": null,
   "metadata": {},
   "outputs": [],
   "source": []
  },
  {
   "cell_type": "markdown",
   "metadata": {},
   "source": [
    "### 3.3.2 KNN  \n",
    "Pipeline with GridSearchCV  \n",
    "optimize best model parameter: n_neighbors"
   ]
  },
  {
   "cell_type": "code",
   "execution_count": 80,
   "metadata": {},
   "outputs": [
    {
     "name": "stdout",
     "output_type": "stream",
     "text": [
      "Fitting 5 folds for each of 3 candidates, totalling 15 fits\n"
     ]
    },
    {
     "name": "stderr",
     "output_type": "stream",
     "text": [
      "[Parallel(n_jobs=-1)]: Using backend LokyBackend with 4 concurrent workers.\n",
      "[Parallel(n_jobs=-1)]: Done  15 out of  15 | elapsed:   52.0s finished\n"
     ]
    },
    {
     "data": {
      "text/plain": [
       "GridSearchCV(cv=5, error_score='raise-deprecating',\n",
       "             estimator=Pipeline(memory=None,\n",
       "                                steps=[('bow',\n",
       "                                        CountVectorizer(analyzer=<function remove_punctuation_and_stopwords at 0x7f41f294bea0>,\n",
       "                                                        binary=False,\n",
       "                                                        decode_error='strict',\n",
       "                                                        dtype=<class 'numpy.int64'>,\n",
       "                                                        encoding='utf-8',\n",
       "                                                        input='content',\n",
       "                                                        lowercase=True,\n",
       "                                                        max_df=1.0,\n",
       "                                                        max_features=None,\n",
       "                                                        min_df=1,\n",
       "                                                        ngram_range=(1, 1),\n",
       "                                                        prepr...\n",
       "                                                         sublinear_tf=False,\n",
       "                                                         use_idf=True)),\n",
       "                                       ('clf_KNN',\n",
       "                                        KNeighborsClassifier(algorithm='auto',\n",
       "                                                             leaf_size=30,\n",
       "                                                             metric='minkowski',\n",
       "                                                             metric_params=None,\n",
       "                                                             n_jobs=None,\n",
       "                                                             n_neighbors=5, p=2,\n",
       "                                                             weights='uniform'))],\n",
       "                                verbose=False),\n",
       "             iid='warn', n_jobs=-1,\n",
       "             param_grid={'clf_KNN__n_neighbors': (8, 15, 20)},\n",
       "             pre_dispatch='2*n_jobs', refit=True, return_train_score=False,\n",
       "             scoring=None, verbose=1)"
      ]
     },
     "execution_count": 80,
     "metadata": {},
     "output_type": "execute_result"
    }
   ],
   "source": [
    "pipe_KNN = Pipeline([ ('bow'  , CountVectorizer(analyzer = remove_punctuation_and_stopwords) ),\n",
    "                   ('tfidf'   , TfidfTransformer()),\n",
    "                   ('clf_KNN' , KNeighborsClassifier() )\n",
    "                    ])\n",
    "\n",
    "parameters_KNN = {'clf_KNN__n_neighbors': (8,15,20), }\n",
    "\n",
    "grid_KNN = GridSearchCV(pipe_KNN, parameters_KNN, cv=5,\n",
    "                        n_jobs=-1, verbose=1)\n",
    "\n",
    "grid_KNN.fit(X=sms_train, y=label_train)"
   ]
  },
  {
   "cell_type": "markdown",
   "metadata": {},
   "source": [
    "**best_params_**"
   ]
  },
  {
   "cell_type": "code",
   "execution_count": 81,
   "metadata": {},
   "outputs": [
    {
     "data": {
      "text/plain": [
       "{'clf_KNN__n_neighbors': 15}"
      ]
     },
     "execution_count": 81,
     "metadata": {},
     "output_type": "execute_result"
    }
   ],
   "source": [
    "grid_KNN.best_params_"
   ]
  },
  {
   "cell_type": "markdown",
   "metadata": {},
   "source": [
    "**cross validation score: best_score_**"
   ]
  },
  {
   "cell_type": "code",
   "execution_count": 82,
   "metadata": {},
   "outputs": [
    {
     "data": {
      "text/plain": [
       "0.936923076923077"
      ]
     },
     "execution_count": 82,
     "metadata": {},
     "output_type": "execute_result"
    }
   ],
   "source": [
    "grid_KNN.best_score_"
   ]
  },
  {
   "cell_type": "markdown",
   "metadata": {},
   "source": [
    "**test score**"
   ]
  },
  {
   "cell_type": "code",
   "execution_count": 83,
   "metadata": {},
   "outputs": [
    {
     "name": "stdout",
     "output_type": "stream",
     "text": [
      "0.9515550239234449\n",
      "0.9515550239234449\n"
     ]
    }
   ],
   "source": [
    "pred_test_grid_KNN = grid_KNN.predict(sms_test)\n",
    "acc_KNN = accuracy_score(label_test, pred_test_grid_KNN)\n",
    "print(acc_KNN)\n",
    "print(grid_KNN.score(sms_test, label_test))"
   ]
  },
  {
   "cell_type": "markdown",
   "metadata": {
    "_uuid": "fa3ebc8288ee6bfe9c391e4db9a20802e5fc1f8e"
   },
   "source": [
    "### 3.3.3 SVC  \n",
    "Pipeline with GridSearchCV  \n",
    "search best preprocessing: apply TfidfTransformer (yes/no)"
   ]
  },
  {
   "cell_type": "code",
   "execution_count": 84,
   "metadata": {
    "_uuid": "c9528ec0130d4354a93f75459f0d223ee05a5a99"
   },
   "outputs": [
    {
     "name": "stdout",
     "output_type": "stream",
     "text": [
      "Fitting 5 folds for each of 6 candidates, totalling 30 fits\n"
     ]
    },
    {
     "name": "stderr",
     "output_type": "stream",
     "text": [
      "[Parallel(n_jobs=-1)]: Using backend LokyBackend with 4 concurrent workers.\n",
      "[Parallel(n_jobs=-1)]: Done  30 out of  30 | elapsed:  1.8min finished\n"
     ]
    },
    {
     "data": {
      "text/plain": [
       "GridSearchCV(cv=5, error_score='raise-deprecating',\n",
       "             estimator=Pipeline(memory=None,\n",
       "                                steps=[('bow',\n",
       "                                        CountVectorizer(analyzer=<function remove_punctuation_and_stopwords at 0x7f41f294bea0>,\n",
       "                                                        binary=False,\n",
       "                                                        decode_error='strict',\n",
       "                                                        dtype=<class 'numpy.int64'>,\n",
       "                                                        encoding='utf-8',\n",
       "                                                        input='content',\n",
       "                                                        lowercase=True,\n",
       "                                                        max_df=1.0,\n",
       "                                                        max_features=None,\n",
       "                                                        min_df=1,\n",
       "                                                        ngram_range=(1, 1),\n",
       "                                                        prepr...\n",
       "                                            kernel='rbf', max_iter=-1,\n",
       "                                            probability=False,\n",
       "                                            random_state=None, shrinking=True,\n",
       "                                            tol=0.001, verbose=False))],\n",
       "                                verbose=False),\n",
       "             iid='warn', n_jobs=-1,\n",
       "             param_grid={'clf_SVC__C': [500, 1000, 1500],\n",
       "                         'tfidf': [None,\n",
       "                                   TfidfTransformer(norm='l2', smooth_idf=True,\n",
       "                                                    sublinear_tf=False,\n",
       "                                                    use_idf=True)]},\n",
       "             pre_dispatch='2*n_jobs', refit=True, return_train_score=False,\n",
       "             scoring=None, verbose=1)"
      ]
     },
     "execution_count": 84,
     "metadata": {},
     "output_type": "execute_result"
    }
   ],
   "source": [
    "pipe_SVC = Pipeline([ ('bow'  , CountVectorizer(analyzer = remove_punctuation_and_stopwords) ),\n",
    "                   ('tfidf'   , TfidfTransformer()),\n",
    "                   ('clf_SVC' , SVC(gamma='auto', C=1000)),\n",
    "                    ])\n",
    "\n",
    "\n",
    "parameters_SVC = dict(tfidf=[None, TfidfTransformer()],\n",
    "                      clf_SVC__C=[500, 1000,1500]\n",
    "                      )\n",
    "#parameters = {'tfidf__use_idf': (True, False),    }\n",
    "\n",
    "grid_SVC = GridSearchCV(pipe_SVC, parameters_SVC, \n",
    "                        cv=5, n_jobs=-1, verbose=1)\n",
    "\n",
    "grid_SVC.fit(X=sms_train, y=label_train)"
   ]
  },
  {
   "cell_type": "markdown",
   "metadata": {},
   "source": [
    "**best_params_**"
   ]
  },
  {
   "cell_type": "code",
   "execution_count": 85,
   "metadata": {},
   "outputs": [
    {
     "data": {
      "text/plain": [
       "{'clf_SVC__C': 1500, 'tfidf': None}"
      ]
     },
     "execution_count": 85,
     "metadata": {},
     "output_type": "execute_result"
    }
   ],
   "source": [
    "grid_SVC.best_params_"
   ]
  },
  {
   "cell_type": "markdown",
   "metadata": {},
   "source": [
    "**cross validation score: best_score_**"
   ]
  },
  {
   "cell_type": "code",
   "execution_count": 86,
   "metadata": {},
   "outputs": [
    {
     "data": {
      "text/plain": [
       "0.9761538461538461"
      ]
     },
     "execution_count": 86,
     "metadata": {},
     "output_type": "execute_result"
    }
   ],
   "source": [
    "grid_SVC.best_score_"
   ]
  },
  {
   "cell_type": "markdown",
   "metadata": {},
   "source": [
    "**test score**"
   ]
  },
  {
   "cell_type": "code",
   "execution_count": 87,
   "metadata": {},
   "outputs": [
    {
     "name": "stdout",
     "output_type": "stream",
     "text": [
      "0.9838516746411483\n",
      "0.9838516746411483\n"
     ]
    }
   ],
   "source": [
    "pred_test_grid_SVC = grid_SVC.predict(sms_test)\n",
    "acc_SVC = accuracy_score(label_test, pred_test_grid_SVC)\n",
    "print(acc_SVC)\n",
    "print(grid_SVC.score(sms_test, label_test))"
   ]
  },
  {
   "cell_type": "code",
   "execution_count": null,
   "metadata": {},
   "outputs": [],
   "source": []
  },
  {
   "cell_type": "markdown",
   "metadata": {},
   "source": [
    "### 3.3.4 SGD  \n",
    "Pipeline with GridSearch  \n",
    "search best preprocessing: use_idf (yes/no)  \n",
    "and best model parameters (alpha, penalty)"
   ]
  },
  {
   "cell_type": "code",
   "execution_count": 88,
   "metadata": {},
   "outputs": [
    {
     "name": "stdout",
     "output_type": "stream",
     "text": [
      "Fitting 5 folds for each of 4 candidates, totalling 20 fits\n"
     ]
    },
    {
     "name": "stderr",
     "output_type": "stream",
     "text": [
      "[Parallel(n_jobs=-1)]: Using backend LokyBackend with 4 concurrent workers.\n",
      "[Parallel(n_jobs=-1)]: Done  20 out of  20 | elapsed:  1.1min finished\n"
     ]
    },
    {
     "data": {
      "text/plain": [
       "GridSearchCV(cv=5, error_score='raise-deprecating',\n",
       "             estimator=Pipeline(memory=None,\n",
       "                                steps=[('bow',\n",
       "                                        CountVectorizer(analyzer=<function remove_punctuation_and_stopwords at 0x7f41f294bea0>,\n",
       "                                                        binary=False,\n",
       "                                                        decode_error='strict',\n",
       "                                                        dtype=<class 'numpy.int64'>,\n",
       "                                                        encoding='utf-8',\n",
       "                                                        input='content',\n",
       "                                                        lowercase=True,\n",
       "                                                        max_df=1.0,\n",
       "                                                        max_features=None,\n",
       "                                                        min_df=1,\n",
       "                                                        ngram_range=(1, 1),\n",
       "                                                        prepr...\n",
       "                                                      max_iter=1000,\n",
       "                                                      n_iter_no_change=5,\n",
       "                                                      n_jobs=None, penalty='l2',\n",
       "                                                      power_t=0.5,\n",
       "                                                      random_state=5,\n",
       "                                                      shuffle=True, tol=0.001,\n",
       "                                                      validation_fraction=0.1,\n",
       "                                                      verbose=0,\n",
       "                                                      warm_start=False))],\n",
       "                                verbose=False),\n",
       "             iid='warn', n_jobs=-1,\n",
       "             param_grid={'clf_SGD__alpha': (1e-05, 0.0001),\n",
       "                         'tfidf__use_idf': (True, False)},\n",
       "             pre_dispatch='2*n_jobs', refit=True, return_train_score=False,\n",
       "             scoring=None, verbose=1)"
      ]
     },
     "execution_count": 88,
     "metadata": {},
     "output_type": "execute_result"
    }
   ],
   "source": [
    "pipe_SGD = Pipeline([ ('bow'  , CountVectorizer(analyzer = remove_punctuation_and_stopwords) ),\n",
    "                   ('tfidf'   , TfidfTransformer()),\n",
    "                   ('clf_SGD' , SGDClassifier(random_state=5)),\n",
    "                    ])\n",
    "\n",
    "parameters_SGD = {\n",
    "    #'vect__ngram_range': ((1, 1), (1, 2)),  # unigrams or bigrams\n",
    "    'tfidf__use_idf': (True, False),\n",
    "    #'tfidf__norm': ('l1', 'l2'),\n",
    "    #'clf_SGD__max_iter': (5,10),\n",
    "    'clf_SGD__alpha': (1e-05, 1e-04),\n",
    "}\n",
    "\n",
    "grid_SGD = GridSearchCV(pipe_SGD, parameters_SGD, cv=5,\n",
    "                               n_jobs=-1, verbose=1)\n",
    "\n",
    "grid_SGD.fit(X=sms_train, y=label_train)"
   ]
  },
  {
   "cell_type": "markdown",
   "metadata": {},
   "source": [
    "**best_params_**"
   ]
  },
  {
   "cell_type": "code",
   "execution_count": 89,
   "metadata": {},
   "outputs": [
    {
     "data": {
      "text/plain": [
       "{'clf_SGD__alpha': 0.0001, 'tfidf__use_idf': True}"
      ]
     },
     "execution_count": 89,
     "metadata": {},
     "output_type": "execute_result"
    }
   ],
   "source": [
    "grid_SGD.best_params_"
   ]
  },
  {
   "cell_type": "markdown",
   "metadata": {},
   "source": [
    "**cross validation score: best_score_**"
   ]
  },
  {
   "cell_type": "code",
   "execution_count": 90,
   "metadata": {},
   "outputs": [
    {
     "data": {
      "text/plain": [
       "0.9766666666666667"
      ]
     },
     "execution_count": 90,
     "metadata": {},
     "output_type": "execute_result"
    }
   ],
   "source": [
    "grid_SGD.best_score_"
   ]
  },
  {
   "cell_type": "markdown",
   "metadata": {},
   "source": [
    "**test score**"
   ]
  },
  {
   "cell_type": "code",
   "execution_count": 91,
   "metadata": {},
   "outputs": [
    {
     "name": "stdout",
     "output_type": "stream",
     "text": [
      "0.9880382775119617\n",
      "0.9880382775119617\n"
     ]
    }
   ],
   "source": [
    "pred_test_grid_SGD = grid_SGD.predict(sms_test)\n",
    "acc_SGD = accuracy_score(label_test, pred_test_grid_SGD)\n",
    "print(acc_SGD)\n",
    "print(grid_SGD.score(sms_test, label_test))"
   ]
  },
  {
   "cell_type": "code",
   "execution_count": null,
   "metadata": {},
   "outputs": [],
   "source": []
  },
  {
   "cell_type": "code",
   "execution_count": null,
   "metadata": {},
   "outputs": [],
   "source": []
  },
  {
   "cell_type": "markdown",
   "metadata": {},
   "source": [
    "### 3.3.5 GradientBoostingClassifier"
   ]
  },
  {
   "cell_type": "code",
   "execution_count": 92,
   "metadata": {},
   "outputs": [
    {
     "name": "stdout",
     "output_type": "stream",
     "text": [
      "Fitting 5 folds for each of 4 candidates, totalling 20 fits\n"
     ]
    },
    {
     "name": "stderr",
     "output_type": "stream",
     "text": [
      "[Parallel(n_jobs=-1)]: Using backend LokyBackend with 4 concurrent workers.\n",
      "[Parallel(n_jobs=-1)]: Done  20 out of  20 | elapsed:  1.3min finished\n"
     ]
    },
    {
     "data": {
      "text/plain": [
       "GridSearchCV(cv=5, error_score='raise-deprecating',\n",
       "             estimator=Pipeline(memory=None,\n",
       "                                steps=[('bow',\n",
       "                                        CountVectorizer(analyzer=<function remove_punctuation_and_stopwords at 0x7f41f294bea0>,\n",
       "                                                        binary=False,\n",
       "                                                        decode_error='strict',\n",
       "                                                        dtype=<class 'numpy.int64'>,\n",
       "                                                        encoding='utf-8',\n",
       "                                                        input='content',\n",
       "                                                        lowercase=True,\n",
       "                                                        max_df=1.0,\n",
       "                                                        max_features=None,\n",
       "                                                        min_df=1,\n",
       "                                                        ngram_range=(1, 1),\n",
       "                                                        prepr...\n",
       "                                                                   min_weight_fraction_leaf=0.0,\n",
       "                                                                   n_estimators=100,\n",
       "                                                                   n_iter_no_change=None,\n",
       "                                                                   presort='auto',\n",
       "                                                                   random_state=5,\n",
       "                                                                   subsample=1.0,\n",
       "                                                                   tol=0.0001,\n",
       "                                                                   validation_fraction=0.1,\n",
       "                                                                   verbose=0,\n",
       "                                                                   warm_start=False))],\n",
       "                                verbose=False),\n",
       "             iid='warn', n_jobs=-1,\n",
       "             param_grid={'clf_GBC__learning_rate': (0.1, 0.2),\n",
       "                         'tfidf__use_idf': (True, False)},\n",
       "             pre_dispatch='2*n_jobs', refit=True, return_train_score=False,\n",
       "             scoring=None, verbose=1)"
      ]
     },
     "execution_count": 92,
     "metadata": {},
     "output_type": "execute_result"
    }
   ],
   "source": [
    "pipe_GBC = Pipeline([ ('bow'  , CountVectorizer(analyzer = remove_punctuation_and_stopwords) ),\n",
    "                      ('tfidf'   , TfidfTransformer() ),\n",
    "                      ('clf_GBC' , GradientBoostingClassifier(random_state=5) ),\n",
    "                    ])\n",
    "\n",
    "parameters_GBC = { 'tfidf__use_idf': (True, False), \n",
    "                   'clf_GBC__learning_rate': (0.1, 0.2),\n",
    "                   #'clf_GBC__min_samples_split': (3,5), \n",
    "                 }\n",
    "\n",
    "grid_GBC = GridSearchCV(pipe_GBC, parameters_GBC, \n",
    "                        cv=5, n_jobs=-1, verbose=1)\n",
    "\n",
    "grid_GBC.fit(X=sms_train, y=label_train)"
   ]
  },
  {
   "cell_type": "code",
   "execution_count": 93,
   "metadata": {},
   "outputs": [
    {
     "data": {
      "text/plain": [
       "{'clf_GBC__learning_rate': 0.2, 'tfidf__use_idf': False}"
      ]
     },
     "execution_count": 93,
     "metadata": {},
     "output_type": "execute_result"
    }
   ],
   "source": [
    "grid_GBC.best_params_"
   ]
  },
  {
   "cell_type": "code",
   "execution_count": 94,
   "metadata": {},
   "outputs": [
    {
     "data": {
      "text/plain": [
       "0.9641025641025641"
      ]
     },
     "execution_count": 94,
     "metadata": {},
     "output_type": "execute_result"
    }
   ],
   "source": [
    "grid_GBC.best_score_"
   ]
  },
  {
   "cell_type": "code",
   "execution_count": 95,
   "metadata": {},
   "outputs": [
    {
     "name": "stdout",
     "output_type": "stream",
     "text": [
      "0.9736842105263158\n",
      "0.9736842105263158\n"
     ]
    }
   ],
   "source": [
    "pred_test_grid_GBC = grid_GBC.predict(sms_test)\n",
    "acc_GBC = accuracy_score(label_test, pred_test_grid_GBC)\n",
    "print(acc_GBC)\n",
    "print(grid_GBC.score(sms_test, label_test))"
   ]
  },
  {
   "cell_type": "code",
   "execution_count": null,
   "metadata": {},
   "outputs": [],
   "source": []
  },
  {
   "cell_type": "markdown",
   "metadata": {},
   "source": [
    "### 3.3.6 XGBoost Classifier"
   ]
  },
  {
   "cell_type": "code",
   "execution_count": 96,
   "metadata": {},
   "outputs": [],
   "source": [
    "import xgboost as xgb\n",
    "\n",
    "# Set params['eval_metric'] = ..."
   ]
  },
  {
   "cell_type": "code",
   "execution_count": 97,
   "metadata": {},
   "outputs": [
    {
     "name": "stdout",
     "output_type": "stream",
     "text": [
      "Fitting 5 folds for each of 8 candidates, totalling 40 fits\n"
     ]
    },
    {
     "name": "stderr",
     "output_type": "stream",
     "text": [
      "[Parallel(n_jobs=-1)]: Using backend LokyBackend with 4 concurrent workers.\n",
      "[Parallel(n_jobs=-1)]: Done  40 out of  40 | elapsed:  3.1min finished\n"
     ]
    },
    {
     "data": {
      "text/plain": [
       "GridSearchCV(cv=5, error_score='raise-deprecating',\n",
       "             estimator=Pipeline(memory=None,\n",
       "                                steps=[('bow',\n",
       "                                        CountVectorizer(analyzer=<function remove_punctuation_and_stopwords at 0x7f41f294bea0>,\n",
       "                                                        binary=False,\n",
       "                                                        decode_error='strict',\n",
       "                                                        dtype=<class 'numpy.int64'>,\n",
       "                                                        encoding='utf-8',\n",
       "                                                        input='content',\n",
       "                                                        lowercase=True,\n",
       "                                                        max_df=1.0,\n",
       "                                                        max_features=None,\n",
       "                                                        min_df=1,\n",
       "                                                        ngram_range=(1, 1),\n",
       "                                                        prepr...\n",
       "                                                      objective='binary:logistic',\n",
       "                                                      random_state=5,\n",
       "                                                      reg_alpha=0, reg_lambda=1,\n",
       "                                                      scale_pos_weight=1,\n",
       "                                                      seed=None, silent=None,\n",
       "                                                      subsample=1,\n",
       "                                                      verbosity=1))],\n",
       "                                verbose=False),\n",
       "             iid='warn', n_jobs=-1,\n",
       "             param_grid={'clf_XGB__eta': (0.01, 0.02),\n",
       "                         'clf_XGB__max_depth': (5, 6),\n",
       "                         'tfidf__use_idf': (True, False)},\n",
       "             pre_dispatch='2*n_jobs', refit=True, return_train_score=False,\n",
       "             scoring=None, verbose=1)"
      ]
     },
     "execution_count": 97,
     "metadata": {},
     "output_type": "execute_result"
    }
   ],
   "source": [
    "pipe_XGB = Pipeline([ ('bow'  , CountVectorizer(analyzer = remove_punctuation_and_stopwords) ),\n",
    "                      ('tfidf'   , TfidfTransformer() ),\n",
    "                      ('clf_XGB' , xgb.XGBClassifier(random_state=5) ),\n",
    "                    ])\n",
    "\n",
    "parameters_XGB = { 'tfidf__use_idf': (True, False), \n",
    "                   'clf_XGB__eta': (0.01, 0.02),\n",
    "                   'clf_XGB__max_depth': (5,6), \n",
    "                 }\n",
    "\n",
    "grid_XGB = GridSearchCV(pipe_XGB, parameters_XGB, \n",
    "                        cv=5, n_jobs=-1, verbose=1)\n",
    "\n",
    "grid_XGB.fit(X=sms_train, y=label_train)"
   ]
  },
  {
   "cell_type": "code",
   "execution_count": 98,
   "metadata": {},
   "outputs": [
    {
     "data": {
      "text/plain": [
       "{'clf_XGB__eta': 0.01, 'clf_XGB__max_depth': 5, 'tfidf__use_idf': False}"
      ]
     },
     "execution_count": 98,
     "metadata": {},
     "output_type": "execute_result"
    }
   ],
   "source": [
    "grid_XGB.best_params_"
   ]
  },
  {
   "cell_type": "code",
   "execution_count": 99,
   "metadata": {},
   "outputs": [
    {
     "data": {
      "text/plain": [
       "0.958974358974359"
      ]
     },
     "execution_count": 99,
     "metadata": {},
     "output_type": "execute_result"
    }
   ],
   "source": [
    "grid_XGB.best_score_"
   ]
  },
  {
   "cell_type": "code",
   "execution_count": 100,
   "metadata": {},
   "outputs": [
    {
     "name": "stdout",
     "output_type": "stream",
     "text": [
      "0.9736842105263158\n",
      "0.9736842105263158\n"
     ]
    }
   ],
   "source": [
    "pred_test_grid_XGB = grid_XGB.predict(sms_test)\n",
    "acc_XGB = accuracy_score(label_test, pred_test_grid_XGB)\n",
    "print(acc_XGB)\n",
    "print(grid_XGB.score(sms_test, label_test))"
   ]
  },
  {
   "cell_type": "code",
   "execution_count": null,
   "metadata": {},
   "outputs": [],
   "source": []
  },
  {
   "cell_type": "markdown",
   "metadata": {
    "_uuid": "ff0832c9bdd34f6ee98c672c80f94d45877fd63c"
   },
   "source": [
    "## 3.4 Comparison of results"
   ]
  },
  {
   "cell_type": "markdown",
   "metadata": {},
   "source": [
    "https://towardsdatascience.com/understanding-data-science-classification-metrics-in-scikit-learn-in-python-3bc336865019  \n",
    "\n",
    "https://scikit-learn.org/stable/modules/model_evaluation.html"
   ]
  },
  {
   "cell_type": "code",
   "execution_count": 101,
   "metadata": {},
   "outputs": [],
   "source": [
    "from sklearn.metrics import precision_score, recall_score, f1_score\n",
    "from sklearn.metrics import precision_recall_fscore_support\n",
    "from sklearn.metrics import roc_auc_score"
   ]
  },
  {
   "cell_type": "markdown",
   "metadata": {},
   "source": [
    "For a binary classification task, there are 4 possible results:\n",
    "\n",
    "\n",
    "TN: True negatives  (ham mails labeled as ham)  \n",
    "FP: False positives (ham mails labeled as spam)  \n",
    "FN: False negatives (spam mails labeled as ham)  \n",
    "TP: True positives  (spam mails labeled as spam)  "
   ]
  },
  {
   "cell_type": "markdown",
   "metadata": {},
   "source": [
    "### confusion_matrix"
   ]
  },
  {
   "cell_type": "markdown",
   "metadata": {},
   "source": [
    "The confusion matrix gives an overview of the classification results:  \n",
    "The diagonal elements represent the number of points for which the predicted label is equal to the true label,  \n",
    "while off-diagonal elements are those that are mislabeled by the classifier.  \n",
    "The higher the diagonal values of the confusion matrix the better, indicating many correct predictions.  \n",
    "The rows of a confusion matrix correspond to the true (actual) classes and the columns correspond to the predicted classes.  \n",
    "So, all together the confusion matrix for a binary classifier consists of 4 values:"
   ]
  },
  {
   "cell_type": "markdown",
   "metadata": {},
   "source": [
    "TN FP  \n",
    "FN TP\n"
   ]
  },
  {
   "cell_type": "markdown",
   "metadata": {},
   "source": [
    "**Using seaborn heat map for nice plot of confusion matrix**"
   ]
  },
  {
   "cell_type": "code",
   "execution_count": 102,
   "metadata": {},
   "outputs": [],
   "source": [
    "def plot_confusion_matrix(y_true, y_pred):\n",
    "    mtx = confusion_matrix(y_true, y_pred)\n",
    "    #fig, ax = plt.subplots(figsize=(4,4))\n",
    "    sns.heatmap(mtx, annot=True, fmt='d', linewidths=.5,  \n",
    "                cmap=\"Blues\", square=True, cbar=False)\n",
    "    #  \n",
    "    plt.ylabel('true label')\n",
    "    plt.xlabel('predicted label')"
   ]
  },
  {
   "cell_type": "markdown",
   "metadata": {},
   "source": [
    "**Dictionary of predictions**"
   ]
  },
  {
   "cell_type": "code",
   "execution_count": 103,
   "metadata": {
    "_uuid": "62513e57732c87ae4a8d2ad765bdbe967a9a2ffb"
   },
   "outputs": [],
   "source": [
    "list_clf = [\"MNB\", \"KNN\", \"SVC\", \"SGD\", \"GBC\", \"XGB\"]\n",
    "\n",
    "list_pred = [pred_test_MNB, pred_test_grid_KNN, \n",
    "             pred_test_grid_SVC, pred_test_grid_SGD,\n",
    "             pred_test_grid_GBC, pred_test_grid_XGB]\n",
    "\n",
    "dict_pred = dict(zip(list_clf, list_pred))"
   ]
  },
  {
   "cell_type": "code",
   "execution_count": 104,
   "metadata": {},
   "outputs": [],
   "source": [
    "def plot_all_confusion_matrices(y_true, dict_all_pred, str_title):\n",
    "    \n",
    "    list_classifiers = list(dict_all_pred.keys())\n",
    "    plt.figure(figsize=(10,7.5))\n",
    "    plt.suptitle(str_title, fontsize=20, fontweight='bold')\n",
    "    n=231\n",
    "\n",
    "    for clf in list_classifiers : \n",
    "        plt.subplot(n)\n",
    "        plot_confusion_matrix(y_true, dict_all_pred[clf])\n",
    "        plt.title(clf, fontweight='bold')\n",
    "        n+=1\n",
    "\n",
    "    plt.tight_layout()\n",
    "    plt.subplots_adjust(top=0.9)\n",
    "    "
   ]
  },
  {
   "cell_type": "code",
   "execution_count": 105,
   "metadata": {},
   "outputs": [
    {
     "data": {
      "image/png": "[encoded data removed]",
      "text/plain": [
       "<Figure size 720x540 with 6 Axes>"
      ]
     },
     "metadata": {
      "needs_background": "light"
     },
     "output_type": "display_data"
    }
   ],
   "source": [
    "plot_all_confusion_matrices(label_test, dict_pred, \"Pipelines v1, scoring=accuracy\")"
   ]
  },
  {
   "cell_type": "code",
   "execution_count": null,
   "metadata": {},
   "outputs": [],
   "source": []
  },
  {
   "cell_type": "markdown",
   "metadata": {},
   "source": [
    "### accuracy_score"
   ]
  },
  {
   "cell_type": "markdown",
   "metadata": {},
   "source": [
    "classification accuracy = correct predictions / total predictions = (TP + TN) / (TP + TN + FP + FN)\n",
    "\n"
   ]
  },
  {
   "cell_type": "code",
   "execution_count": 106,
   "metadata": {},
   "outputs": [],
   "source": [
    "dict_acc = {}\n",
    "for clf in list_clf :\n",
    "    dict_acc[clf] = accuracy_score(label_test, dict_pred[clf])"
   ]
  },
  {
   "cell_type": "code",
   "execution_count": 107,
   "metadata": {},
   "outputs": [
    {
     "name": "stdout",
     "output_type": "stream",
     "text": [
      "MNB   0.9665071770334929\n",
      "KNN   0.9515550239234449\n",
      "SVC   0.9838516746411483\n",
      "SGD   0.9880382775119617\n",
      "GBC   0.9736842105263158\n",
      "XGB   0.9736842105263158\n"
     ]
    }
   ],
   "source": [
    "for clf in list_clf :\n",
    "    print(clf, \" \" , dict_acc[clf])"
   ]
  },
  {
   "cell_type": "code",
   "execution_count": null,
   "metadata": {},
   "outputs": [],
   "source": []
  },
  {
   "cell_type": "markdown",
   "metadata": {},
   "source": [
    "Comparing the accuracy_score with the confusion matrices, one finds that  \n",
    "accuracy score may not be the best parameter to choose the best classifier.  \n",
    "SGD, a model with high accuracy_score, incorrectly classifies 6 ham mails as spam,  \n",
    "which is usually not wanted for a spam classifier (important mails might get lost).  \n",
    "MNB has less accuracy than SGD, but it classifies all ham mails correctly.  \n",
    "SVC also classifies all ham mails correctly but compared to MNB it classifies   \n",
    "much more spam mails correctly.  \n",
    "Apart from accuracy there are further scoring methods to evaluate a classifier.  \n",
    "Lets look at the other classifier scores in more detail:  \n",
    "precision, recall, fscore, support, roc_auc"
   ]
  },
  {
   "cell_type": "markdown",
   "metadata": {},
   "source": [
    "### precision_score"
   ]
  },
  {
   "cell_type": "markdown",
   "metadata": {},
   "source": [
    "The precision is the ratio TP / (TP + FP) where TP is the number of true positives and TP the number of false positives.  \n",
    "The precision is intuitively the ability of the classifier not to label as positive a sample that is negative.  \n",
    "Precision = 1 for FP = 0 and precision goes up when FP goes down."
   ]
  },
  {
   "cell_type": "code",
   "execution_count": 108,
   "metadata": {},
   "outputs": [
    {
     "name": "stdout",
     "output_type": "stream",
     "text": [
      "MNB   1.0\n",
      "KNN   0.9921875\n",
      "SVC   1.0\n",
      "SGD   0.9895287958115183\n",
      "GBC   0.9657142857142857\n",
      "XGB   0.9766081871345029\n"
     ]
    }
   ],
   "source": [
    "for clf in list_clf :\n",
    "    print(clf, \" \", precision_score(label_test, dict_pred[clf]))"
   ]
  },
  {
   "cell_type": "markdown",
   "metadata": {},
   "source": [
    "By definition the precision is calculated for the negative class (label = 0, ham mails).  \n",
    "This is also the default when calling precision score without any further parameters.  \n",
    "But we can also examine the precision for the individual labels (ham,spam = 0,1)"
   ]
  },
  {
   "cell_type": "code",
   "execution_count": 109,
   "metadata": {},
   "outputs": [
    {
     "name": "stdout",
     "output_type": "stream",
     "text": [
      "MNB   [0.96318212 1.        ]\n",
      "KNN   [0.94818653 0.9921875 ]\n",
      "SVC   [0.98190349 1.        ]\n",
      "SGD   [0.98784605 0.9895288 ]\n",
      "GBC   [0.9746159  0.96571429]\n",
      "XGB   [0.9733511  0.97660819]\n"
     ]
    }
   ],
   "source": [
    "for clf in list_clf :\n",
    "    print(clf, \" \", precision_score(label_test, dict_pred[clf], average=None, labels=[0,1]))"
   ]
  },
  {
   "cell_type": "markdown",
   "metadata": {},
   "source": [
    "Precision for classifying ham mails is 1.0 for the MNB and SVC classifier.  \n",
    "SGD has the best precision for classifying ham mails."
   ]
  },
  {
   "cell_type": "code",
   "execution_count": null,
   "metadata": {},
   "outputs": [],
   "source": []
  },
  {
   "cell_type": "markdown",
   "metadata": {},
   "source": [
    "### recall_score"
   ]
  },
  {
   "cell_type": "markdown",
   "metadata": {},
   "source": [
    "The recall is the ratio TP / (TP + FN) where TP is the number of true positives and FN the number of false negatives.  \n",
    "The recall is intuitively the ability of the classifier to find all the positive samples."
   ]
  },
  {
   "cell_type": "code",
   "execution_count": 110,
   "metadata": {},
   "outputs": [
    {
     "name": "stdout",
     "output_type": "stream",
     "text": [
      "MNB   0.7294685990338164\n",
      "KNN   0.6135265700483091\n",
      "SVC   0.8695652173913043\n",
      "SGD   0.9130434782608695\n",
      "GBC   0.8164251207729468\n",
      "XGB   0.8067632850241546\n"
     ]
    }
   ],
   "source": [
    "for clf in list_clf :\n",
    "    print(clf, \" \", recall_score(label_test, dict_pred[clf]))"
   ]
  },
  {
   "cell_type": "markdown",
   "metadata": {},
   "source": [
    "Recall is defined regarding the positive class (label=1, spam mails).  \n",
    "Again, if we call the recall score method with the labels parameter, we get  \n",
    "the recall for ham and spam messages:"
   ]
  },
  {
   "cell_type": "code",
   "execution_count": 111,
   "metadata": {},
   "outputs": [
    {
     "name": "stdout",
     "output_type": "stream",
     "text": [
      "MNB   [1.        0.7294686]\n",
      "KNN   [0.99931741 0.61352657]\n",
      "SVC   [1.         0.86956522]\n",
      "SGD   [0.99863481 0.91304348]\n",
      "GBC   [0.99590444 0.81642512]\n",
      "XGB   [0.99726962 0.80676329]\n"
     ]
    }
   ],
   "source": [
    "for clf in list_clf :\n",
    "    print(clf, \" \", recall_score(label_test, dict_pred[clf], average=None, labels=[0,1] ))"
   ]
  },
  {
   "cell_type": "markdown",
   "metadata": {},
   "source": []
  },
  {
   "cell_type": "code",
   "execution_count": null,
   "metadata": {},
   "outputs": [],
   "source": []
  },
  {
   "cell_type": "markdown",
   "metadata": {},
   "source": [
    "### f1_score"
   ]
  },
  {
   "cell_type": "markdown",
   "metadata": {},
   "source": [
    "The F-beta score can be interpreted as a weighted harmonic mean of the precision and recall,  \n",
    "where an F-beta score reaches its best value at 1 and worst score at 0.  \n",
    "The F-beta score weights recall more than precision by a factor of beta.  \n",
    "beta == 1.0 means recall and precision are equally important."
   ]
  },
  {
   "cell_type": "code",
   "execution_count": 112,
   "metadata": {},
   "outputs": [
    {
     "name": "stdout",
     "output_type": "stream",
     "text": [
      "MNB   0.8435754189944134\n",
      "KNN   0.7582089552238805\n",
      "SVC   0.9302325581395349\n",
      "SGD   0.949748743718593\n",
      "GBC   0.8848167539267014\n",
      "XGB   0.8835978835978836\n"
     ]
    }
   ],
   "source": [
    "for clf in list_clf :\n",
    "    print(clf, \" \", f1_score(label_test, dict_pred[clf]))"
   ]
  },
  {
   "cell_type": "code",
   "execution_count": 113,
   "metadata": {},
   "outputs": [
    {
     "name": "stdout",
     "output_type": "stream",
     "text": [
      "MNB   [0.98124581 0.84357542]\n",
      "KNN   [0.97308076 0.75820896]\n",
      "SVC   [0.99086912 0.93023256]\n",
      "SGD   [0.99321113 0.94974874]\n",
      "GBC   [0.98514517 0.88481675]\n",
      "XGB   [0.98516521 0.88359788]\n"
     ]
    }
   ],
   "source": [
    "for clf in list_clf :\n",
    "    print(clf, \" \", f1_score(label_test, dict_pred[clf], average=None, labels=[0,1] ))"
   ]
  },
  {
   "cell_type": "code",
   "execution_count": null,
   "metadata": {},
   "outputs": [],
   "source": []
  },
  {
   "cell_type": "code",
   "execution_count": null,
   "metadata": {},
   "outputs": [],
   "source": []
  },
  {
   "cell_type": "markdown",
   "metadata": {},
   "source": [
    "### classification_report"
   ]
  },
  {
   "cell_type": "code",
   "execution_count": 114,
   "metadata": {},
   "outputs": [
    {
     "name": "stdout",
     "output_type": "stream",
     "text": [
      "              precision    recall  f1-score   support\n",
      "\n",
      "           0       0.96      1.00      0.98      1465\n",
      "           1       1.00      0.73      0.84       207\n",
      "\n",
      "    accuracy                           0.97      1672\n",
      "   macro avg       0.98      0.86      0.91      1672\n",
      "weighted avg       0.97      0.97      0.96      1672\n",
      "\n"
     ]
    }
   ],
   "source": [
    "print(classification_report(label_test, pred_test_MNB))"
   ]
  },
  {
   "cell_type": "markdown",
   "metadata": {},
   "source": [
    "The support is the number of occurrences of each class in y_true."
   ]
  },
  {
   "cell_type": "code",
   "execution_count": null,
   "metadata": {},
   "outputs": [],
   "source": []
  },
  {
   "cell_type": "markdown",
   "metadata": {},
   "source": [
    "### precision_recall_fscore_support"
   ]
  },
  {
   "cell_type": "markdown",
   "metadata": {},
   "source": []
  },
  {
   "cell_type": "code",
   "execution_count": 115,
   "metadata": {
    "_uuid": "4f0ebc9406c2e41b585ab2ce572f6cc5d0a351fc"
   },
   "outputs": [
    {
     "name": "stdout",
     "output_type": "stream",
     "text": [
      "MNB   (array([0.96318212, 1.        ]), array([1.       , 0.7294686]), array([0.98124581, 0.84357542]), array([1465,  207]))\n",
      "KNN   (array([0.94818653, 0.9921875 ]), array([0.99931741, 0.61352657]), array([0.97308076, 0.75820896]), array([1465,  207]))\n",
      "SVC   (array([0.98190349, 1.        ]), array([1.        , 0.86956522]), array([0.99086912, 0.93023256]), array([1465,  207]))\n",
      "SGD   (array([0.98784605, 0.9895288 ]), array([0.99863481, 0.91304348]), array([0.99321113, 0.94974874]), array([1465,  207]))\n",
      "GBC   (array([0.9746159 , 0.96571429]), array([0.99590444, 0.81642512]), array([0.98514517, 0.88481675]), array([1465,  207]))\n",
      "XGB   (array([0.9733511 , 0.97660819]), array([0.99726962, 0.80676329]), array([0.98516521, 0.88359788]), array([1465,  207]))\n"
     ]
    }
   ],
   "source": [
    "for clf in list_clf :\n",
    "    print(clf, \" \", precision_recall_fscore_support(label_test, dict_pred[clf], average=None, labels=[0,1] ))"
   ]
  },
  {
   "cell_type": "code",
   "execution_count": null,
   "metadata": {},
   "outputs": [],
   "source": []
  },
  {
   "cell_type": "markdown",
   "metadata": {},
   "source": [
    "https://scikit-learn.org/stable/auto_examples/model_selection/plot_precision_recall.html"
   ]
  },
  {
   "cell_type": "code",
   "execution_count": null,
   "metadata": {},
   "outputs": [],
   "source": []
  },
  {
   "cell_type": "markdown",
   "metadata": {},
   "source": [
    "### roc_auc_score"
   ]
  },
  {
   "cell_type": "code",
   "execution_count": 116,
   "metadata": {},
   "outputs": [
    {
     "name": "stdout",
     "output_type": "stream",
     "text": [
      "MNB   0.8647342995169083\n",
      "KNN   0.806421988095827\n",
      "SVC   0.9347826086956521\n",
      "SGD   0.9558391452737794\n",
      "GBC   0.9061647788165076\n",
      "XGB   0.9020164547987667\n"
     ]
    }
   ],
   "source": [
    "for clf in list_clf :\n",
    "    print(clf, \" \", roc_auc_score(label_test, dict_pred[clf] ))"
   ]
  },
  {
   "cell_type": "code",
   "execution_count": null,
   "metadata": {},
   "outputs": [],
   "source": []
  },
  {
   "cell_type": "code",
   "execution_count": 117,
   "metadata": {},
   "outputs": [
    {
     "data": {
      "text/plain": [
       "dict_keys(['explained_variance', 'r2', 'max_error', 'neg_median_absolute_error', 'neg_mean_absolute_error', 'neg_mean_squared_error', 'neg_mean_squared_log_error', 'accuracy', 'roc_auc', 'balanced_accuracy', 'average_precision', 'neg_log_loss', 'brier_score_loss', 'adjusted_rand_score', 'homogeneity_score', 'completeness_score', 'v_measure_score', 'mutual_info_score', 'adjusted_mutual_info_score', 'normalized_mutual_info_score', 'fowlkes_mallows_score', 'precision', 'precision_macro', 'precision_micro', 'precision_samples', 'precision_weighted', 'recall', 'recall_macro', 'recall_micro', 'recall_samples', 'recall_weighted', 'f1', 'f1_macro', 'f1_micro', 'f1_samples', 'f1_weighted', 'jaccard', 'jaccard_macro', 'jaccard_micro', 'jaccard_samples', 'jaccard_weighted'])"
      ]
     },
     "execution_count": 117,
     "metadata": {},
     "output_type": "execute_result"
    }
   ],
   "source": [
    "import sklearn.metrics\n",
    "sklearn.metrics.SCORERS.keys()"
   ]
  },
  {
   "cell_type": "code",
   "execution_count": null,
   "metadata": {
    "_uuid": "9e4855f548722b8d2e45d17856870bed7f8abd76"
   },
   "outputs": [],
   "source": []
  },
  {
   "cell_type": "markdown",
   "metadata": {},
   "source": [
    "### 3.5 Optimize classifiers with scoring by precision"
   ]
  },
  {
   "cell_type": "markdown",
   "metadata": {},
   "source": [
    "We perform GridSearchCV again, using the same parameter grids and pipelines like before.  \n",
    "For all classifier pipelines, we only change the scoring method from \"accuracy\" to \"precision\"."
   ]
  },
  {
   "cell_type": "code",
   "execution_count": 118,
   "metadata": {},
   "outputs": [],
   "source": [
    "scoring = 'precision'"
   ]
  },
  {
   "cell_type": "markdown",
   "metadata": {},
   "source": [
    "### 3.5.1 GridSearchCV pipelines version 2"
   ]
  },
  {
   "cell_type": "markdown",
   "metadata": {},
   "source": [
    "MNB"
   ]
  },
  {
   "cell_type": "markdown",
   "metadata": {},
   "source": [
    "The precision for MNB was already 1.0 so it can not be improved."
   ]
  },
  {
   "cell_type": "markdown",
   "metadata": {},
   "source": [
    "KNN"
   ]
  },
  {
   "cell_type": "code",
   "execution_count": 119,
   "metadata": {},
   "outputs": [
    {
     "name": "stdout",
     "output_type": "stream",
     "text": [
      "Fitting 5 folds for each of 3 candidates, totalling 15 fits\n"
     ]
    },
    {
     "name": "stderr",
     "output_type": "stream",
     "text": [
      "[Parallel(n_jobs=-1)]: Using backend LokyBackend with 4 concurrent workers.\n",
      "[Parallel(n_jobs=-1)]: Done  15 out of  15 | elapsed:   52.7s finished\n"
     ]
    }
   ],
   "source": [
    "grid_KNN_2 = GridSearchCV(pipe_KNN, parameters_KNN, cv=5,\n",
    "                          scoring=scoring, n_jobs=-1, verbose=1)\n",
    "\n",
    "grid_KNN_2.fit(X=sms_train, y=label_train)\n",
    "pred_test_grid_KNN_2 = grid_KNN_2.predict(sms_test)"
   ]
  },
  {
   "cell_type": "code",
   "execution_count": 120,
   "metadata": {},
   "outputs": [
    {
     "data": {
      "text/plain": [
       "{'clf_KNN__n_neighbors': 8}"
      ]
     },
     "execution_count": 120,
     "metadata": {},
     "output_type": "execute_result"
    }
   ],
   "source": [
    "grid_KNN_2.best_params_"
   ]
  },
  {
   "cell_type": "markdown",
   "metadata": {},
   "source": [
    "SVC"
   ]
  },
  {
   "cell_type": "code",
   "execution_count": 121,
   "metadata": {},
   "outputs": [
    {
     "name": "stdout",
     "output_type": "stream",
     "text": [
      "Fitting 5 folds for each of 6 candidates, totalling 30 fits\n"
     ]
    },
    {
     "name": "stderr",
     "output_type": "stream",
     "text": [
      "[Parallel(n_jobs=-1)]: Using backend LokyBackend with 4 concurrent workers.\n",
      "[Parallel(n_jobs=-1)]: Done  30 out of  30 | elapsed:  1.8min finished\n"
     ]
    }
   ],
   "source": [
    "grid_SVC_2 = GridSearchCV(pipe_SVC, parameters_SVC, cv=5,\n",
    "                          scoring=scoring, n_jobs=-1, verbose=1)\n",
    "\n",
    "grid_SVC_2.fit(X=sms_train, y=label_train)\n",
    "pred_test_grid_SVC_2 = grid_SVC_2.predict(sms_test)"
   ]
  },
  {
   "cell_type": "markdown",
   "metadata": {},
   "source": [
    "SGD"
   ]
  },
  {
   "cell_type": "code",
   "execution_count": 122,
   "metadata": {},
   "outputs": [
    {
     "name": "stdout",
     "output_type": "stream",
     "text": [
      "Fitting 5 folds for each of 4 candidates, totalling 20 fits\n"
     ]
    },
    {
     "name": "stderr",
     "output_type": "stream",
     "text": [
      "[Parallel(n_jobs=-1)]: Using backend LokyBackend with 4 concurrent workers.\n",
      "[Parallel(n_jobs=-1)]: Done  20 out of  20 | elapsed:  1.2min finished\n"
     ]
    }
   ],
   "source": [
    "grid_SGD_2 = GridSearchCV(pipe_SGD, parameters_SGD, cv=5,\n",
    "                          scoring=scoring, n_jobs=-1, verbose=1)\n",
    "\n",
    "grid_SGD_2.fit(X=sms_train, y=label_train)\n",
    "pred_test_grid_SGD_2 = grid_SGD_2.predict(sms_test)"
   ]
  },
  {
   "cell_type": "markdown",
   "metadata": {},
   "source": [
    "GBC"
   ]
  },
  {
   "cell_type": "code",
   "execution_count": 123,
   "metadata": {},
   "outputs": [
    {
     "name": "stdout",
     "output_type": "stream",
     "text": [
      "Fitting 5 folds for each of 4 candidates, totalling 20 fits\n"
     ]
    },
    {
     "name": "stderr",
     "output_type": "stream",
     "text": [
      "[Parallel(n_jobs=-1)]: Using backend LokyBackend with 4 concurrent workers.\n",
      "[Parallel(n_jobs=-1)]: Done  20 out of  20 | elapsed:  1.3min finished\n"
     ]
    }
   ],
   "source": [
    "grid_GBC_2 = GridSearchCV(pipe_GBC, parameters_GBC, cv=5,\n",
    "                          scoring=scoring, n_jobs=-1, verbose=1)\n",
    "\n",
    "grid_GBC_2.fit(X=sms_train, y=label_train)\n",
    "pred_test_grid_GBC_2 = grid_GBC_2.predict(sms_test)"
   ]
  },
  {
   "cell_type": "markdown",
   "metadata": {},
   "source": [
    "XGB"
   ]
  },
  {
   "cell_type": "code",
   "execution_count": 124,
   "metadata": {},
   "outputs": [
    {
     "name": "stdout",
     "output_type": "stream",
     "text": [
      "Fitting 5 folds for each of 8 candidates, totalling 40 fits\n"
     ]
    },
    {
     "name": "stderr",
     "output_type": "stream",
     "text": [
      "[Parallel(n_jobs=-1)]: Using backend LokyBackend with 4 concurrent workers.\n",
      "[Parallel(n_jobs=-1)]: Done  40 out of  40 | elapsed:  3.1min finished\n"
     ]
    }
   ],
   "source": [
    "grid_XGB_2 = GridSearchCV(pipe_XGB, parameters_XGB, cv=5,\n",
    "                          scoring=scoring, n_jobs=-1, verbose=1)\n",
    "\n",
    "grid_XGB_2.fit(X=sms_train, y=label_train)\n",
    "pred_test_grid_XGB_2 = grid_XGB_2.predict(sms_test)"
   ]
  },
  {
   "cell_type": "code",
   "execution_count": null,
   "metadata": {},
   "outputs": [],
   "source": []
  },
  {
   "cell_type": "markdown",
   "metadata": {},
   "source": [
    "### 3.5.2 Confusion matrices for scoring by precision"
   ]
  },
  {
   "cell_type": "code",
   "execution_count": 125,
   "metadata": {},
   "outputs": [],
   "source": [
    "list_clf = [\"MNB\", \"KNN_2\", \"SVC_2\", \"SGD_2\", \"GBC_2\", \"XGB_2\"]\n",
    "\n",
    "list_pred = [pred_test_MNB, pred_test_grid_KNN_2, \n",
    "             pred_test_grid_SVC_2, pred_test_grid_SGD_2,\n",
    "             pred_test_grid_GBC_2, pred_test_grid_XGB_2]\n",
    "\n",
    "dict_pred_2 = dict(zip(list_clf, list_pred))"
   ]
  },
  {
   "cell_type": "code",
   "execution_count": 126,
   "metadata": {},
   "outputs": [
    {
     "data": {
      "image/png": "[encoded data removed]",
      "text/plain": [
       "<Figure size 720x540 with 6 Axes>"
      ]
     },
     "metadata": {
      "needs_background": "light"
     },
     "output_type": "display_data"
    }
   ],
   "source": [
    "plot_all_confusion_matrices(label_test, dict_pred_2, \"Pipelines v2, scoring=precision\")"
   ]
  },
  {
   "cell_type": "code",
   "execution_count": null,
   "metadata": {},
   "outputs": [],
   "source": []
  },
  {
   "cell_type": "markdown",
   "metadata": {},
   "source": [
    "### 3.6 Optimize classifiers with scoring by recall"
   ]
  },
  {
   "cell_type": "markdown",
   "metadata": {},
   "source": [
    "For spam detection optimizing tbe classifiers by precision seems most reasonable.  \n",
    "But for other tasks it may be advantageous to have a classifier with maximum recall.  \n",
    "For example, in Credit Card Fraud detections, you want to find all fraud samples.  \n",
    "For all classifier pipelines, we perform GridSearchCV again, using the same parameter grids  \n",
    "and only changing the scoring method to \"recall\"."
   ]
  },
  {
   "cell_type": "code",
   "execution_count": 127,
   "metadata": {},
   "outputs": [],
   "source": [
    "scoring = 'recall'"
   ]
  },
  {
   "cell_type": "markdown",
   "metadata": {},
   "source": [
    "### 3.6.1 GridSearchCV pipelines version 3"
   ]
  },
  {
   "cell_type": "code",
   "execution_count": null,
   "metadata": {},
   "outputs": [],
   "source": []
  },
  {
   "cell_type": "markdown",
   "metadata": {},
   "source": [
    "MNB"
   ]
  },
  {
   "cell_type": "markdown",
   "metadata": {},
   "source": [
    "TODO:  \n",
    "paramgrid for MNB"
   ]
  },
  {
   "cell_type": "code",
   "execution_count": null,
   "metadata": {},
   "outputs": [],
   "source": []
  },
  {
   "cell_type": "code",
   "execution_count": null,
   "metadata": {},
   "outputs": [],
   "source": []
  },
  {
   "cell_type": "markdown",
   "metadata": {},
   "source": [
    "KNN"
   ]
  },
  {
   "cell_type": "code",
   "execution_count": 128,
   "metadata": {},
   "outputs": [
    {
     "name": "stdout",
     "output_type": "stream",
     "text": [
      "Fitting 5 folds for each of 3 candidates, totalling 15 fits\n"
     ]
    },
    {
     "name": "stderr",
     "output_type": "stream",
     "text": [
      "[Parallel(n_jobs=-1)]: Using backend LokyBackend with 4 concurrent workers.\n",
      "[Parallel(n_jobs=-1)]: Done  15 out of  15 | elapsed:   52.8s finished\n"
     ]
    }
   ],
   "source": [
    "grid_KNN_3 = GridSearchCV(pipe_KNN, parameters_KNN, cv=5,\n",
    "                          scoring=scoring, n_jobs=-1, verbose=1)\n",
    "\n",
    "grid_KNN_3.fit(X=sms_train, y=label_train)\n",
    "pred_test_grid_KNN_3 = grid_KNN_3.predict(sms_test)"
   ]
  },
  {
   "cell_type": "code",
   "execution_count": 129,
   "metadata": {},
   "outputs": [
    {
     "data": {
      "text/plain": [
       "{'clf_KNN__n_neighbors': 15}"
      ]
     },
     "execution_count": 129,
     "metadata": {},
     "output_type": "execute_result"
    }
   ],
   "source": [
    "grid_KNN_3.best_params_"
   ]
  },
  {
   "cell_type": "markdown",
   "metadata": {},
   "source": [
    "SVC"
   ]
  },
  {
   "cell_type": "code",
   "execution_count": 130,
   "metadata": {},
   "outputs": [
    {
     "name": "stdout",
     "output_type": "stream",
     "text": [
      "Fitting 5 folds for each of 6 candidates, totalling 30 fits\n"
     ]
    },
    {
     "name": "stderr",
     "output_type": "stream",
     "text": [
      "[Parallel(n_jobs=-1)]: Using backend LokyBackend with 4 concurrent workers.\n",
      "[Parallel(n_jobs=-1)]: Done  30 out of  30 | elapsed:  1.8min finished\n"
     ]
    }
   ],
   "source": [
    "grid_SVC_3 = GridSearchCV(pipe_SVC, parameters_SVC, cv=5,\n",
    "                          scoring=scoring, n_jobs=-1, verbose=1)\n",
    "\n",
    "grid_SVC_3.fit(X=sms_train, y=label_train)\n",
    "pred_test_grid_SVC_3 = grid_SVC_3.predict(sms_test)"
   ]
  },
  {
   "cell_type": "markdown",
   "metadata": {},
   "source": [
    "SGD"
   ]
  },
  {
   "cell_type": "code",
   "execution_count": 131,
   "metadata": {},
   "outputs": [
    {
     "name": "stdout",
     "output_type": "stream",
     "text": [
      "Fitting 5 folds for each of 4 candidates, totalling 20 fits\n"
     ]
    },
    {
     "name": "stderr",
     "output_type": "stream",
     "text": [
      "[Parallel(n_jobs=-1)]: Using backend LokyBackend with 4 concurrent workers.\n",
      "[Parallel(n_jobs=-1)]: Done  20 out of  20 | elapsed:  1.1min finished\n"
     ]
    }
   ],
   "source": [
    "grid_SGD_3 = GridSearchCV(pipe_SGD, parameters_SGD, cv=5,\n",
    "                          scoring=scoring, n_jobs=-1, verbose=1)\n",
    "\n",
    "grid_SGD_3.fit(X=sms_train, y=label_train)\n",
    "pred_test_grid_SGD_3 = grid_SGD_3.predict(sms_test)"
   ]
  },
  {
   "cell_type": "markdown",
   "metadata": {},
   "source": [
    "GBC"
   ]
  },
  {
   "cell_type": "code",
   "execution_count": 132,
   "metadata": {},
   "outputs": [
    {
     "name": "stdout",
     "output_type": "stream",
     "text": [
      "Fitting 5 folds for each of 4 candidates, totalling 20 fits\n"
     ]
    },
    {
     "name": "stderr",
     "output_type": "stream",
     "text": [
      "[Parallel(n_jobs=-1)]: Using backend LokyBackend with 4 concurrent workers.\n",
      "[Parallel(n_jobs=-1)]: Done  20 out of  20 | elapsed:  1.3min finished\n"
     ]
    }
   ],
   "source": [
    "grid_GBC_3 = GridSearchCV(pipe_GBC, parameters_GBC, cv=5,\n",
    "                          scoring=scoring, n_jobs=-1, verbose=1)\n",
    "\n",
    "grid_GBC_3.fit(X=sms_train, y=label_train)\n",
    "pred_test_grid_GBC_3 = grid_GBC_3.predict(sms_test)"
   ]
  },
  {
   "cell_type": "markdown",
   "metadata": {},
   "source": [
    "XGB"
   ]
  },
  {
   "cell_type": "code",
   "execution_count": 133,
   "metadata": {},
   "outputs": [
    {
     "name": "stdout",
     "output_type": "stream",
     "text": [
      "Fitting 5 folds for each of 8 candidates, totalling 40 fits\n"
     ]
    },
    {
     "name": "stderr",
     "output_type": "stream",
     "text": [
      "[Parallel(n_jobs=-1)]: Using backend LokyBackend with 4 concurrent workers.\n",
      "[Parallel(n_jobs=-1)]: Done  40 out of  40 | elapsed:  3.1min finished\n"
     ]
    }
   ],
   "source": [
    "grid_XGB_3 = GridSearchCV(pipe_XGB, parameters_XGB, cv=5,\n",
    "                          scoring=scoring, n_jobs=-1, verbose=1)\n",
    "\n",
    "grid_XGB_3.fit(X=sms_train, y=label_train)\n",
    "pred_test_grid_XGB_3 = grid_XGB_3.predict(sms_test)"
   ]
  },
  {
   "cell_type": "code",
   "execution_count": null,
   "metadata": {},
   "outputs": [],
   "source": []
  },
  {
   "cell_type": "markdown",
   "metadata": {},
   "source": [
    "### 3.6.2 Confusion matrices for scoring by recall"
   ]
  },
  {
   "cell_type": "code",
   "execution_count": 134,
   "metadata": {},
   "outputs": [],
   "source": [
    "list_clf = [\"MNB\", \"KNN_3\", \"SVC_3\", \"SGD_3\", \"GBC_3\", \"XGB_3\"]\n",
    "\n",
    "list_pred = [pred_test_MNB, pred_test_grid_KNN_3, \n",
    "             pred_test_grid_SVC_3, pred_test_grid_SGD_3,\n",
    "             pred_test_grid_GBC_3, pred_test_grid_XGB_3]\n",
    "\n",
    "dict_pred_3 = dict(zip(list_clf, list_pred))"
   ]
  },
  {
   "cell_type": "code",
   "execution_count": 135,
   "metadata": {},
   "outputs": [
    {
     "data": {
      "image/png": "[encoded data removed]",
      "text/plain": [
       "<Figure size 720x540 with 6 Axes>"
      ]
     },
     "metadata": {
      "needs_background": "light"
     },
     "output_type": "display_data"
    }
   ],
   "source": [
    "plot_all_confusion_matrices(label_test, dict_pred_3, \"Pipelines v3, scoring=recall\")"
   ]
  },
  {
   "cell_type": "code",
   "execution_count": null,
   "metadata": {},
   "outputs": [],
   "source": []
  },
  {
   "cell_type": "markdown",
   "metadata": {},
   "source": [
    "### 3.7 Optimize classifiers with scoring by roc_auc_score"
   ]
  },
  {
   "cell_type": "code",
   "execution_count": 136,
   "metadata": {},
   "outputs": [],
   "source": [
    "scoring = 'roc_auc'"
   ]
  },
  {
   "cell_type": "markdown",
   "metadata": {},
   "source": [
    "### 3.7.1 GridSearchCV pipelines version 4"
   ]
  },
  {
   "cell_type": "markdown",
   "metadata": {},
   "source": [
    "MNB"
   ]
  },
  {
   "cell_type": "code",
   "execution_count": null,
   "metadata": {},
   "outputs": [],
   "source": []
  },
  {
   "cell_type": "markdown",
   "metadata": {},
   "source": [
    "KNN"
   ]
  },
  {
   "cell_type": "code",
   "execution_count": 137,
   "metadata": {},
   "outputs": [
    {
     "name": "stdout",
     "output_type": "stream",
     "text": [
      "Fitting 5 folds for each of 3 candidates, totalling 15 fits\n"
     ]
    },
    {
     "name": "stderr",
     "output_type": "stream",
     "text": [
      "[Parallel(n_jobs=-1)]: Using backend LokyBackend with 4 concurrent workers.\n",
      "[Parallel(n_jobs=-1)]: Done  15 out of  15 | elapsed:   52.3s finished\n"
     ]
    }
   ],
   "source": [
    "grid_KNN_4 = GridSearchCV(pipe_KNN, parameters_KNN, cv=5,\n",
    "                          scoring=scoring, n_jobs=-1, verbose=1)\n",
    "\n",
    "grid_KNN_4.fit(X=sms_train, y=label_train)\n",
    "pred_test_grid_KNN_4 = grid_KNN_4.predict(sms_test)"
   ]
  },
  {
   "cell_type": "code",
   "execution_count": 138,
   "metadata": {},
   "outputs": [
    {
     "data": {
      "text/plain": [
       "{'clf_KNN__n_neighbors': 20}"
      ]
     },
     "execution_count": 138,
     "metadata": {},
     "output_type": "execute_result"
    }
   ],
   "source": [
    "grid_KNN_4.best_params_"
   ]
  },
  {
   "cell_type": "code",
   "execution_count": 139,
   "metadata": {},
   "outputs": [
    {
     "data": {
      "image/png": "[encoded data removed]",
      "text/plain": [
       "<Figure size 360x360 with 1 Axes>"
      ]
     },
     "metadata": {
      "needs_background": "light"
     },
     "output_type": "display_data"
    }
   ],
   "source": [
    "from sklearn.metrics import roc_curve, auc\n",
    "\n",
    "fpr, tpr, thr = roc_curve(label_test, grid_KNN_4.predict_proba(sms_test)[:,1])\n",
    "plt.figure(figsize=(5, 5))\n",
    "plt.plot(fpr, tpr)\n",
    "plt.xlabel('False Positive Rate')\n",
    "plt.ylabel('True Positive Rate')\n",
    "plt.title('Receiver Operating Characteristic Plot')\n",
    "auc_knn4 = auc(fpr, tpr) * 100\n",
    "plt.legend([\"AUC {0:.3f}\".format(auc_knn4)]);"
   ]
  },
  {
   "cell_type": "markdown",
   "metadata": {},
   "source": [
    "SVC"
   ]
  },
  {
   "cell_type": "code",
   "execution_count": 140,
   "metadata": {},
   "outputs": [
    {
     "name": "stdout",
     "output_type": "stream",
     "text": [
      "Fitting 5 folds for each of 6 candidates, totalling 30 fits\n"
     ]
    },
    {
     "name": "stderr",
     "output_type": "stream",
     "text": [
      "[Parallel(n_jobs=-1)]: Using backend LokyBackend with 4 concurrent workers.\n",
      "[Parallel(n_jobs=-1)]: Done  30 out of  30 | elapsed:  1.8min finished\n"
     ]
    }
   ],
   "source": [
    "grid_SVC_4 = GridSearchCV(pipe_SVC, parameters_SVC, cv=5,\n",
    "                          scoring=scoring, n_jobs=-1, verbose=1)\n",
    "\n",
    "grid_SVC_4.fit(X=sms_train, y=label_train)\n",
    "pred_test_grid_SVC_4 = grid_SVC_4.predict(sms_test)"
   ]
  },
  {
   "cell_type": "code",
   "execution_count": null,
   "metadata": {},
   "outputs": [],
   "source": []
  },
  {
   "cell_type": "code",
   "execution_count": null,
   "metadata": {},
   "outputs": [],
   "source": []
  },
  {
   "cell_type": "markdown",
   "metadata": {},
   "source": [
    "SGD"
   ]
  },
  {
   "cell_type": "code",
   "execution_count": 141,
   "metadata": {},
   "outputs": [
    {
     "name": "stdout",
     "output_type": "stream",
     "text": [
      "Fitting 5 folds for each of 4 candidates, totalling 20 fits\n"
     ]
    },
    {
     "name": "stderr",
     "output_type": "stream",
     "text": [
      "[Parallel(n_jobs=-1)]: Using backend LokyBackend with 4 concurrent workers.\n",
      "[Parallel(n_jobs=-1)]: Done  20 out of  20 | elapsed:  1.1min finished\n"
     ]
    }
   ],
   "source": [
    "grid_SGD_4 = GridSearchCV(pipe_SGD, parameters_SGD, cv=5,\n",
    "                          scoring=scoring, n_jobs=-1, verbose=1)\n",
    "\n",
    "grid_SGD_4.fit(X=sms_train, y=label_train)\n",
    "pred_test_grid_SGD_4 = grid_SGD_4.predict(sms_test)"
   ]
  },
  {
   "cell_type": "code",
   "execution_count": null,
   "metadata": {},
   "outputs": [],
   "source": []
  },
  {
   "cell_type": "markdown",
   "metadata": {},
   "source": [
    "GBC"
   ]
  },
  {
   "cell_type": "code",
   "execution_count": 142,
   "metadata": {},
   "outputs": [
    {
     "name": "stdout",
     "output_type": "stream",
     "text": [
      "Fitting 5 folds for each of 4 candidates, totalling 20 fits\n"
     ]
    },
    {
     "name": "stderr",
     "output_type": "stream",
     "text": [
      "[Parallel(n_jobs=-1)]: Using backend LokyBackend with 4 concurrent workers.\n",
      "[Parallel(n_jobs=-1)]: Done  20 out of  20 | elapsed:  1.3min finished\n"
     ]
    }
   ],
   "source": [
    "grid_GBC_4 = GridSearchCV(pipe_GBC, parameters_GBC, cv=5,\n",
    "                          scoring=scoring, n_jobs=-1, verbose=1)\n",
    "\n",
    "grid_GBC_4.fit(X=sms_train, y=label_train)\n",
    "pred_test_grid_GBC_4 = grid_GBC_4.predict(sms_test)"
   ]
  },
  {
   "cell_type": "code",
   "execution_count": 143,
   "metadata": {},
   "outputs": [
    {
     "data": {
      "image/png": "[encoded data removed]",
      "text/plain": [
       "<Figure size 360x360 with 1 Axes>"
      ]
     },
     "metadata": {
      "needs_background": "light"
     },
     "output_type": "display_data"
    }
   ],
   "source": [
    "from sklearn.metrics import roc_curve, auc\n",
    "fpr, tpr, thr = roc_curve(label_test, grid_GBC_4.predict_proba(sms_test)[:,1])\n",
    "plt.figure(figsize=(5, 5))\n",
    "plt.plot(fpr, tpr)\n",
    "plt.xlabel('False Positive Rate')\n",
    "plt.ylabel('True Positive Rate')\n",
    "plt.title('Receiver Operating Characteristic Plot')\n",
    "auc_gbc4 = auc(fpr, tpr) * 100\n",
    "plt.legend([\"AUC {0:.3f}\".format(auc_gbc4)]);"
   ]
  },
  {
   "cell_type": "markdown",
   "metadata": {},
   "source": [
    "XGB"
   ]
  },
  {
   "cell_type": "code",
   "execution_count": 144,
   "metadata": {},
   "outputs": [
    {
     "name": "stdout",
     "output_type": "stream",
     "text": [
      "Fitting 5 folds for each of 8 candidates, totalling 40 fits\n"
     ]
    },
    {
     "name": "stderr",
     "output_type": "stream",
     "text": [
      "[Parallel(n_jobs=-1)]: Using backend LokyBackend with 4 concurrent workers.\n",
      "[Parallel(n_jobs=-1)]: Done  40 out of  40 | elapsed:  3.0min finished\n"
     ]
    }
   ],
   "source": [
    "grid_XGB_4 = GridSearchCV(pipe_XGB, parameters_XGB, cv=5,\n",
    "                          scoring=scoring, n_jobs=-1, verbose=1)\n",
    "\n",
    "grid_XGB_4.fit(X=sms_train, y=label_train)\n",
    "pred_test_grid_XGB_4 = grid_XGB_4.predict(sms_test)"
   ]
  },
  {
   "cell_type": "markdown",
   "metadata": {},
   "source": [
    "### 3.7.2 Confusion matrices for scoring by roc auc"
   ]
  },
  {
   "cell_type": "code",
   "execution_count": 145,
   "metadata": {},
   "outputs": [],
   "source": [
    "list_clf = [\"MNB\", \"KNN_4\", \"SVC_4\", \"SGD_4\", \"GBC_4\", \"XGB_4\"]\n",
    "\n",
    "list_pred = [pred_test_MNB, pred_test_grid_KNN_4, \n",
    "             pred_test_grid_SVC_4, pred_test_grid_SGD_4,\n",
    "             pred_test_grid_GBC_4, pred_test_grid_XGB_4]\n",
    "\n",
    "dict_pred_4 = dict(zip(list_clf, list_pred))"
   ]
  },
  {
   "cell_type": "code",
   "execution_count": 146,
   "metadata": {},
   "outputs": [
    {
     "data": {
      "image/png": "[encoded data removed]",
      "text/plain": [
       "<Figure size 720x540 with 6 Axes>"
      ]
     },
     "metadata": {
      "needs_background": "light"
     },
     "output_type": "display_data"
    }
   ],
   "source": [
    "plot_all_confusion_matrices(label_test, dict_pred_4, \"Pipelines v4, scoring=roc auc\")"
   ]
  },
  {
   "cell_type": "code",
   "execution_count": null,
   "metadata": {},
   "outputs": [],
   "source": []
  },
  {
   "cell_type": "markdown",
   "metadata": {},
   "source": [
    "# Part 4: NLTK"
   ]
  },
  {
   "cell_type": "code",
   "execution_count": 147,
   "metadata": {},
   "outputs": [],
   "source": [
    "from nltk import word_tokenize, sent_tokenize\n",
    "from nltk.corpus import stopwords"
   ]
  },
  {
   "cell_type": "code",
   "execution_count": 148,
   "metadata": {},
   "outputs": [
    {
     "name": "stdout",
     "output_type": "stream",
     "text": [
      "As per your request 'Melle Melle (Oru Minnaminunginte Nurungu Vettam)' has been set as your callertune for all Callers. Press *9 to copy your friends Callertune\n"
     ]
    }
   ],
   "source": [
    "print(data['text'][7])"
   ]
  },
  {
   "cell_type": "code",
   "execution_count": 149,
   "metadata": {},
   "outputs": [
    {
     "name": "stdout",
     "output_type": "stream",
     "text": [
      "[\"As per your request 'Melle Melle (Oru Minnaminunginte Nurungu Vettam)' has been set as your callertune for all Callers.\", 'Press *9 to copy your friends Callertune']\n"
     ]
    }
   ],
   "source": [
    "print(sent_tokenize(data['text'][7]))"
   ]
  },
  {
   "cell_type": "code",
   "execution_count": 150,
   "metadata": {},
   "outputs": [
    {
     "name": "stdout",
     "output_type": "stream",
     "text": [
      "['As', 'per', 'your', 'request', \"'Melle\", 'Melle', '(', 'Oru', 'Minnaminunginte', 'Nurungu', 'Vettam', ')', \"'\", 'has', 'been', 'set', 'as', 'your', 'callertune', 'for', 'all', 'Callers', '.', 'Press', '*9', 'to', 'copy', 'your', 'friends', 'Callertune']\n"
     ]
    }
   ],
   "source": [
    "print(word_tokenize(data['text'][7]))"
   ]
  },
  {
   "cell_type": "code",
   "execution_count": 151,
   "metadata": {},
   "outputs": [
    {
     "name": "stdout",
     "output_type": "stream",
     "text": [
      "['As', 'per', 'request', \"'Melle\", 'Melle', '(', 'Oru', 'Minnaminunginte', 'Nurungu', 'Vettam', ')', \"'\", 'set', 'callertune', 'Callers', '.', 'Press', '*9', 'copy', 'friends', 'Callertune']\n"
     ]
    }
   ],
   "source": [
    "stopWords = set(stopwords.words('english'))\n",
    "words = word_tokenize(data['text'][7])\n",
    "wordsFiltered = []\n",
    "\n",
    "for w in words:\n",
    "    if w not in stopWords:\n",
    "        wordsFiltered.append(w)\n",
    "\n",
    "print(wordsFiltered)"
   ]
  },
  {
   "cell_type": "code",
   "execution_count": null,
   "metadata": {},
   "outputs": [],
   "source": []
  }
 ],
 "metadata": {
  "kernelspec": {
   "display_name": "Python 3",
   "language": "python",
   "name": "python3"
  },
  "language_info": {
   "codemirror_mode": {
    "name": "ipython",
    "version": 3
   },
   "file_extension": ".py",
   "mimetype": "text/x-python",
   "name": "python",
   "nbconvert_exporter": "python",
   "pygments_lexer": "ipython3",
   "version": "3.6.6"
  }
 },
 "nbformat": 4,
 "nbformat_minor": 1
}
