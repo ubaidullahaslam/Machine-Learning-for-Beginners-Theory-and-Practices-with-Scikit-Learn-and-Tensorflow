{
  "nbformat": 4,
  "nbformat_minor": 0,
  "metadata": {
    "accelerator": "GPU",
    "colab": {
      "name": "classification_using_NN_MNIST.ipynb",
      "provenance": [],
      "collapsed_sections": []
    },
    "kernelspec": {
      "display_name": "Python 3",
      "language": "python",
      "name": "python3"
    },
    "language_info": {
      "codemirror_mode": {
        "name": "ipython",
        "version": 3
      },
      "file_extension": ".py",
      "mimetype": "text/x-python",
      "name": "python",
      "nbconvert_exporter": "python",
      "pygments_lexer": "ipython3",
      "version": "3.5.4"
    }
  },
  "cells": [
    {
      "cell_type": "markdown",
      "metadata": {
        "id": "ahVJXlZUC9xL",
        "colab_type": "text"
      },
      "source": [
        "# <center>Deep Learning</center>"
      ]
    },
    {
      "cell_type": "markdown",
      "metadata": {
        "colab_type": "text",
        "id": "fCuh-o9YS4Bz"
      },
      "source": [
        "Mount your Google drive by using this code snippet"
      ]
    },
    {
      "cell_type": "code",
      "metadata": {
        "colab_type": "code",
        "id": "C5LfwwRbTrq7",
        "outputId": "2d136c7e-e1c9-4813-807c-12acd9a19411",
        "colab": {
          "base_uri": "https://localhost:8080/",
          "height": 131
        }
      },
      "source": [
        "from google.colab import drive\n",
        "drive.mount('/content/drive')"
      ],
      "execution_count": 0,
      "outputs": [
        {
          "output_type": "stream",
          "text": [
            "Go to this URL in a browser: https://accounts.google.com/o/oauth2/auth?client_id=947318989803-6bn6qk8qdgf4n4g3pfee6491hc0brc4i.apps.googleusercontent.com&redirect_uri=urn%3aietf%3awg%3aoauth%3a2.0%3aoob&response_type=code&scope=email%20https%3a%2f%2fwww.googleapis.com%2fauth%2fdocs.test%20https%3a%2f%2fwww.googleapis.com%2fauth%2fdrive%20https%3a%2f%2fwww.googleapis.com%2fauth%2fdrive.photos.readonly%20https%3a%2f%2fwww.googleapis.com%2fauth%2fpeopleapi.readonly\n",
            "\n",
            "Enter your authorization code:\n",
            "··········\n",
            "Mounted at /content/drive\n"
          ],
          "name": "stdout"
        }
      ]
    },
    {
      "cell_type": "markdown",
      "metadata": {
        "colab_type": "text",
        "id": "n_EsQs3aThrW"
      },
      "source": [
        "check current directory contents"
      ]
    },
    {
      "cell_type": "code",
      "metadata": {
        "colab_type": "code",
        "id": "lZlK7kFXGqp5",
        "outputId": "1ec9f87a-1643-4224-fd7f-26950eb9f09a",
        "colab": {
          "base_uri": "https://localhost:8080/",
          "height": 119
        }
      },
      "source": [
        "!ls '/content/drive/My Drive/'"
      ],
      "execution_count": 0,
      "outputs": [
        {
          "output_type": "stream",
          "text": [
            "classification_using_NN_cats-vs-dogs.ipynb\n",
            "classification_using_NN_MNIST.ipynb\n",
            "dataset\n",
            "keras_basics_notebook.ipynb\n",
            "regression_using_NN_boston-housing.ipynb\n",
            "working_with_google_colab.ipynb\n"
          ],
          "name": "stdout"
        }
      ]
    },
    {
      "cell_type": "markdown",
      "metadata": {
        "colab_type": "text",
        "id": "HwrnPVMOWQ1z"
      },
      "source": [
        "**Neural Network in Keras**\n",
        "In this excercise, we will learn to: \n",
        "1. import MNIST dataset and visualize some example images\n",
        "2. define the neural network model with a single hidden layer\n",
        "3. train the model and plot the accuracy and loss at each epoch\n",
        "4. test the model\n",
        "6. save the model after every 10 epochs"
      ]
    },
    {
      "cell_type": "markdown",
      "metadata": {
        "id": "IM2zY_RVC9zO",
        "colab_type": "text"
      },
      "source": [
        "## 1. Import MNIST dataset"
      ]
    },
    {
      "cell_type": "code",
      "metadata": {
        "colab_type": "code",
        "id": "V9LLpoTmW3UT",
        "outputId": "08a47998-b2ba-4775-f653-8eacef1fa3c6",
        "colab": {
          "base_uri": "https://localhost:8080/",
          "height": 148
        }
      },
      "source": [
        "from keras.datasets import mnist\n",
        "import numpy as np\n",
        "(train_X, train_Y), (test_X, test_Y) = mnist.load_data()\n",
        "_, img_rows, img_cols =  train_X.shape\n",
        "num_classes = len(np.unique(train_Y))\n",
        "num_input_nodes = img_rows*img_cols\n",
        "print(\"Number of training images: %d\"%train_X.shape[0])\n",
        "print(\"Number of test images: %d\"%test_X.shape[0])\n",
        "print(\"Image rows: %d\"%train_X.shape[1])\n",
        "print(\"Image columns: %d\"%train_X.shape[2])\n",
        "print(\"Number of classes: %d\"%num_classes)\n",
        "print(\"Training data shape: \", train_X.shape, train_Y.shape)\n",
        "print(\"Testing data shape: \", test_X.shape, test_Y.shape)"
      ],
      "execution_count": 0,
      "outputs": [
        {
          "output_type": "stream",
          "text": [
            "Number of training images: 60000\n",
            "Number of test images: 10000\n",
            "Image rows: 28\n",
            "Image columns: 28\n",
            "Number of classes: 10\n",
            "Training data shape:  (60000, 28, 28) (60000,)\n",
            "Testing data shape:  (10000, 28, 28) (10000,)\n"
          ],
          "name": "stdout"
        }
      ]
    },
    {
      "cell_type": "markdown",
      "metadata": {
        "colab_type": "text",
        "id": "27BL8GVmXsGF"
      },
      "source": [
        "### Visualize some examples from dataset"
      ]
    },
    {
      "cell_type": "code",
      "metadata": {
        "colab_type": "code",
        "id": "BPIHiZMSXpfi",
        "outputId": "6bd19a22-2593-4c09-b94c-50c8eec869d1",
        "colab": {
          "base_uri": "https://localhost:8080/",
          "height": 213
        }
      },
      "source": [
        "import matplotlib.pyplot as plt\n",
        "\n",
        "fig = plt.figure(figsize=(8,3)) # size of figure in inches (1 inch = 96 pixels)\n",
        "for i in range(num_classes):\n",
        "    ax = fig.add_subplot(2, 5, 1 + i, xticks=[], yticks=[]) # add_subplot(rows,cols,position,labels on x and y axis)\n",
        "    X_idx = train_X[train_Y[:]==i,:]   \n",
        "    ax.set_title(\"Num: \" + str(i)) # plot first image of certain class (label)\n",
        "    plt.imshow(X_idx[1], cmap=\"gray\") #color map gray \n",
        "plt.show()"
      ],
      "execution_count": 0,
      "outputs": [
        {
          "output_type": "display_data",
          "data": {
            "image/png": "[encoded data removed]",
            "text/plain": [
              "<Figure size 576x216 with 10 Axes>"
            ]
          },
          "metadata": {
            "tags": []
          }
        }
      ]
    },
    {
      "cell_type": "markdown",
      "metadata": {
        "colab_type": "text",
        "id": "cLk_HsX2X-BM"
      },
      "source": [
        "### Pre-processing the dataset"
      ]
    },
    {
      "cell_type": "code",
      "metadata": {
        "colab_type": "code",
        "id": "sqFxLtL5YEY7",
        "outputId": "c5903e7e-7274-4aff-c9a7-e0a0ffc04ad9",
        "colab": {
          "base_uri": "https://localhost:8080/",
          "height": 92
        }
      },
      "source": [
        "import keras\n",
        "# reshape images to column vectors\n",
        "train_X = train_X.reshape(train_X.shape[0], img_rows*img_cols)\n",
        "test_X = test_X.reshape(test_X.shape[0], img_rows*img_cols)\n",
        "# convert class labels to binary class labels\n",
        "train_Y = keras.utils.np_utils.to_categorical(train_Y, num_classes)\n",
        "test_Y = keras.utils.np_utils.to_categorical(test_Y, num_classes)\n",
        "print(\"train_X:\",train_X.shape)\n",
        "print(\"test_X:\",test_X.shape)\n",
        "print(\"train_Y:\",train_Y.shape)\n",
        "print(\"test_Y:\",test_Y.shape)"
      ],
      "execution_count": 0,
      "outputs": [
        {
          "output_type": "stream",
          "text": [
            "train_X: (60000, 784)\n",
            "test_X: (10000, 784)\n",
            "train_Y: (60000, 10)\n",
            "test_Y: (10000, 10)\n"
          ],
          "name": "stdout"
        }
      ]
    },
    {
      "cell_type": "markdown",
      "metadata": {
        "id": "IPHnDNuMC90a",
        "colab_type": "text"
      },
      "source": [
        "# 2. Define model"
      ]
    },
    {
      "cell_type": "code",
      "metadata": {
        "colab_type": "code",
        "id": "WgWpdiyWYhKg",
        "outputId": "bed59b7f-7ae6-44f8-abc8-189c0ab0e6f4",
        "colab": {
          "base_uri": "https://localhost:8080/",
          "height": 354
        }
      },
      "source": [
        "from keras.models import Sequential\n",
        "from keras.layers.core import Dense\n",
        "from keras.optimizers import SGD\n",
        "\n",
        "def nn():\n",
        "    # initialize model\n",
        "    model = Sequential()\n",
        "    # add an input layer and a hidden layer with sigmoid activation \n",
        "    model.add(Dense(100, input_dim = num_input_nodes, activation='relu'))\n",
        "    model.add(Dense(100, activation='relu'))\n",
        "    model.add(Dense(100, activation='relu'))\n",
        "    model.add(Dense(50, activation='relu'))\n",
        "    # add output layer with activation\n",
        "    model.add(Dense(num_classes, activation='softmax'))\n",
        "    return model\n",
        "\n",
        "# define model\n",
        "model = nn()\n",
        "# define optimizer\n",
        "sgd = SGD(lr=0.01) # check with different lr values\n",
        "model.compile(optimizer=sgd, loss='mse', metrics=['accuracy'])\n",
        "# print model information\n",
        "model.summary()"
      ],
      "execution_count": 0,
      "outputs": [
        {
          "output_type": "stream",
          "text": [
            "Model: \"sequential_4\"\n",
            "_________________________________________________________________\n",
            "Layer (type)                 Output Shape              Param #   \n",
            "=================================================================\n",
            "dense_10 (Dense)             (None, 100)               78500     \n",
            "_________________________________________________________________\n",
            "dense_11 (Dense)             (None, 100)               10100     \n",
            "_________________________________________________________________\n",
            "dense_12 (Dense)             (None, 100)               10100     \n",
            "_________________________________________________________________\n",
            "dense_13 (Dense)             (None, 50)                5050      \n",
            "_________________________________________________________________\n",
            "dense_14 (Dense)             (None, 10)                510       \n",
            "=================================================================\n",
            "Total params: 104,260\n",
            "Trainable params: 104,260\n",
            "Non-trainable params: 0\n",
            "_________________________________________________________________\n"
          ],
          "name": "stdout"
        }
      ]
    },
    {
      "cell_type": "markdown",
      "metadata": {
        "colab_type": "text",
        "id": "Fijtj_ElY3Wu"
      },
      "source": [
        "## 3. Train the model"
      ]
    },
    {
      "cell_type": "code",
      "metadata": {
        "colab_type": "code",
        "id": "9IxjWs1RY5vG",
        "outputId": "339840c3-7a2b-4886-c94e-5fac8c1ba3ed",
        "colab": {
          "base_uri": "https://localhost:8080/",
          "height": 428
        }
      },
      "source": [
        "import time\n",
        "start = time.time()\n",
        "model_info = model.fit(train_X, train_Y, batch_size=16, epochs=10, verbose=2, validation_split=0.2)\n",
        "end = time.time()\n",
        "print(\"Model took %0.2f seconds to train\"%(end - start))"
      ],
      "execution_count": 0,
      "outputs": [
        {
          "output_type": "stream",
          "text": [
            "Train on 48000 samples, validate on 12000 samples\n",
            "Epoch 1/10\n",
            " - 10s - loss: 0.1145 - acc: 0.4126 - val_loss: 0.0934 - val_acc: 0.5211\n",
            "Epoch 2/10\n",
            " - 10s - loss: 0.0858 - acc: 0.5585 - val_loss: 0.0750 - val_acc: 0.6129\n",
            "Epoch 3/10\n",
            " - 9s - loss: 0.0656 - acc: 0.6595 - val_loss: 0.0605 - val_acc: 0.6845\n",
            "Epoch 4/10\n",
            " - 10s - loss: 0.0594 - acc: 0.6920 - val_loss: 0.0557 - val_acc: 0.7083\n",
            "Epoch 5/10\n",
            " - 10s - loss: 0.0554 - acc: 0.7062 - val_loss: 0.0545 - val_acc: 0.7076\n",
            "Epoch 6/10\n",
            " - 10s - loss: 0.0472 - acc: 0.7444 - val_loss: 0.0337 - val_acc: 0.8239\n",
            "Epoch 7/10\n",
            " - 9s - loss: 0.0330 - acc: 0.8279 - val_loss: 0.0354 - val_acc: 0.8157\n",
            "Epoch 8/10\n",
            " - 10s - loss: 0.0314 - acc: 0.8347 - val_loss: 0.0318 - val_acc: 0.8325\n",
            "Epoch 9/10\n",
            " - 10s - loss: 0.0300 - acc: 0.8412 - val_loss: 0.0306 - val_acc: 0.8373\n",
            "Epoch 10/10\n",
            " - 10s - loss: 0.0288 - acc: 0.8447 - val_loss: 0.0300 - val_acc: 0.8373\n",
            "Model took 96.65 seconds to train\n"
          ],
          "name": "stdout"
        }
      ]
    },
    {
      "cell_type": "markdown",
      "metadata": {
        "colab_type": "text",
        "id": "rZBraDW4ZB1e"
      },
      "source": [
        "**Visualize accuracy and loss plots over training epochs**"
      ]
    },
    {
      "cell_type": "code",
      "metadata": {
        "colab_type": "code",
        "id": "hgut7YBAbr3O",
        "outputId": "32470ee6-7f8d-44b1-8442-aa516fae1425",
        "colab": {
          "base_uri": "https://localhost:8080/",
          "height": 370
        }
      },
      "source": [
        "def plot_model_history(model_history):\n",
        "    fig, axs = plt.subplots(1,2,figsize=(15,5))\n",
        "    # model history for accuracy\n",
        "    axs[0].plot(range(1,len(model_history.history['acc'])+1),model_history.history['acc'])\n",
        "    axs[0].plot(range(1,len(model_history.history['val_acc'])+1),model_history.history['val_acc'])\n",
        "    axs[0].set_title('Model Accuracy')\n",
        "    axs[0].set_ylabel('Accuracy')\n",
        "    axs[0].set_xlabel('Epoch')\n",
        "    axs[0].set_xticks(np.arange(1,len(model_history.history['acc'])+1),len(model_history.history['acc'])/10)\n",
        "    axs[0].legend(['training acc', 'val acc'], loc='best')\n",
        "    axs[0].grid(True)\n",
        "    # model history for loss\n",
        "    axs[1].plot(range(1,len(model_history.history['loss'])+1),model_history.history['loss'])\n",
        "    axs[1].plot(range(1,len(model_history.history['val_loss'])+1),model_history.history['val_loss'])\n",
        "    axs[1].set_title('Model Loss')\n",
        "    axs[1].set_ylabel('Loss')\n",
        "    axs[1].set_xlabel('Epoch')\n",
        "    axs[1].set_xticks(np.arange(1,len(model_history.history['loss'])+1),len(model_history.history['loss'])/10)\n",
        "    axs[1].legend(['training loss', 'val loss'], loc='best')\n",
        "    axs[1].grid(True)\n",
        "plot_model_history(model_info)"
      ],
      "execution_count": 0,
      "outputs": [
        {
          "output_type": "display_data",
          "data": {
            "image/png": "[encoded data removed]",
            "text/plain": [
              "<Figure size 1080x360 with 2 Axes>"
            ]
          },
          "metadata": {
            "tags": []
          }
        }
      ]
    },
    {
      "cell_type": "markdown",
      "metadata": {
        "colab_type": "text",
        "id": "4ymLrIHOcDMY"
      },
      "source": [
        "## 5. Test the model"
      ]
    },
    {
      "cell_type": "code",
      "metadata": {
        "colab_type": "code",
        "id": "KeHHiF20cFtR",
        "outputId": "9db8ec8b-2117-4bd9-bd87-d4bff254714c",
        "colab": {
          "base_uri": "https://localhost:8080/",
          "height": 73
        }
      },
      "source": [
        "def accuracy(test_X, test_Y, model):\n",
        "    result = model.predict(test_X)\n",
        "    #print(result[0,:]) # will give you (N,10) matrix, in each row we have probabilities of a neuron\n",
        "    predicted_class = np.argmax(result, axis=1)\n",
        "    print(predicted_class, predicted_class.shape) # returns the indices of the maximum index along 1 axis\n",
        "    true_class = np.argmax(test_Y, axis=1) # returns the indices of the maximum index along 1 axis\n",
        "    print(true_class, predicted_class.shape)\n",
        "    num_correct = np.sum(predicted_class == true_class) \n",
        "    accuracy = float(num_correct)/result.shape[0]\n",
        "    return (accuracy * 100)\n",
        "\n",
        "print(\"Accuracy on test data is: %0.2f\"%accuracy(test_X, test_Y, model))"
      ],
      "execution_count": 0,
      "outputs": [
        {
          "output_type": "stream",
          "text": [
            "[8 2 1 ... 4 5 6] (10000,)\n",
            "[7 2 1 ... 4 5 6] (10000,)\n",
            "Accuracy on test data is: 84.23\n"
          ],
          "name": "stdout"
        }
      ]
    },
    {
      "cell_type": "markdown",
      "metadata": {
        "colab_type": "text",
        "id": "qXaUxYufAXM_"
      },
      "source": [
        "## 5. Save the model after every 10 epochs"
      ]
    },
    {
      "cell_type": "code",
      "metadata": {
        "colab_type": "code",
        "id": "MPyCVwJrAyCQ",
        "colab": {}
      },
      "source": [
        "from keras.callbacks import ModelCheckpoint\n",
        "import os\n",
        "\n",
        "# define a deep neural network\n",
        "model = nn()\n",
        "# define optimizer\n",
        "sgd = SGD(lr=0.1)\n",
        "model.compile(optimizer=sgd, loss='mse', metrics=['accuracy'])\n",
        "# checkpoint\n",
        "outputFolder = 'weights/'\n",
        "if not os.path.exists(outputFolder):\n",
        "    os.makedirs(outputFolder)\n",
        "\n",
        "filepath=outputFolder+\"/weights-{epoch:02d}-{val_acc:.2f}.hdf5\"\n",
        "checkpoint = ModelCheckpoint(filepath, monitor='val_acc', verbose=1, \\\n",
        "                             save_best_only=False, save_weights_only=True, \\\n",
        "                             mode='auto', period=10)\n",
        "callbacks_list = [checkpoint]\n",
        "\n",
        "# train the model\n",
        "model_info = model.fit(train_X, train_Y, batch_size=128, \\\n",
        "                       epochs=80, callbacks=callbacks_list, verbose=0, \\\n",
        "                       validation_split=0.2)\n",
        "# compute test accuracy\n",
        "print(\"Accuracy on test data is: %0.2f\"%accuracy(test_X, test_Y, model))"
      ],
      "execution_count": 0,
      "outputs": []
    }
  ]
}